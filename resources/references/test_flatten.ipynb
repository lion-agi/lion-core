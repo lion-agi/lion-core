{
 "cells": [
  {
   "cell_type": "code",
   "execution_count": 1,
   "metadata": {},
   "outputs": [],
   "source": [
    "import sys\n",
    "from pathlib import Path\n",
    "\n",
    "here = Path.cwd().parent.parent\n",
    "sys.path.append(str(here))\n",
    "\n",
    "from lion_core.libs import flatten\n",
    "from typing import Dict, Any\n",
    "import json\n"
   ]
  },
  {
   "cell_type": "code",
   "execution_count": 2,
   "metadata": {},
   "outputs": [
    {
     "name": "stdout",
     "output_type": "stream",
     "text": [
      "{'a': [1, [[2]], [{3}]], 'g|b': [4]}\n"
     ]
    }
   ],
   "source": [
    "a = {\"a\": [1, [[2]], [{3}]], \"g\":{\"b\": [4]}}\n",
    "\n",
    "\n",
    "a1 = flatten(a)\n",
    "print(a1)"
   ]
  },
  {
   "cell_type": "code",
   "execution_count": 3,
   "metadata": {},
   "outputs": [
    {
     "name": "stdout",
     "output_type": "stream",
     "text": [
      "{'a|0': 1, 'a|2|0': {3}, 'g|b|0': 4, 'a|1|0|0': 2}\n",
      "{('a', 0): 1, ('a', 2, 0): {3}, ('g', 'b', 0): 4, ('a', 1, 0, 0): 2}\n"
     ]
    }
   ],
   "source": [
    "a1 = flatten(a, dynamic=True, coerce_sequence=True, coerce_keys=True)\n",
    "a2 = flatten(a, dynamic=True, coerce_sequence=True, coerce_keys=False)\n",
    "print(a1)\n",
    "print(a2)"
   ]
  },
  {
   "cell_type": "code",
   "execution_count": 4,
   "metadata": {},
   "outputs": [
    {
     "name": "stdout",
     "output_type": "stream",
     "text": [
      "{'a|0': 1, 'a|2|0': {3}, 'g|b|0': 4, 'a|1|0|0': 2}\n",
      "{('a', '0'): 1, ('a', '2', '0'): {3}, ('g', 'b', '0'): 4, ('a', '1', '0', '0'): 2}\n"
     ]
    }
   ],
   "source": [
    "a1 = flatten(a, dynamic=True, coerce_sequence=False, coerce_keys=True)\n",
    "a2 = flatten(a, dynamic=True, coerce_sequence=False, coerce_keys=False)\n",
    "print(a1)\n",
    "print(a2)"
   ]
  },
  {
   "cell_type": "code",
   "execution_count": 5,
   "metadata": {},
   "outputs": [
    {
     "name": "stdout",
     "output_type": "stream",
     "text": [
      "{'a': [1, [[2]], [{3}]], 'g|b': [4]}\n",
      "{('a',): [1, [[2]], [{3}]], ('g', 'b'): [4]}\n"
     ]
    }
   ],
   "source": [
    "a1 = flatten(a, dynamic=False, coerce_sequence=True, coerce_keys=True)\n",
    "a2 = flatten(a, dynamic=False, coerce_sequence=True, coerce_keys=False)\n",
    "print(a1)\n",
    "print(a2)"
   ]
  },
  {
   "cell_type": "code",
   "execution_count": 6,
   "metadata": {},
   "outputs": [
    {
     "name": "stdout",
     "output_type": "stream",
     "text": [
      "{'a': [1, [[2]], [{3}]], 'g|b': [4]}\n",
      "{('a',): [1, [[2]], [{3}]], ('g', 'b'): [4]}\n"
     ]
    }
   ],
   "source": [
    "a1 = flatten(a, dynamic=False, coerce_sequence=False, coerce_keys=True)\n",
    "a2 = flatten(a, dynamic=False, coerce_sequence=False, coerce_keys=False)\n",
    "print(a1)\n",
    "print(a2)"
   ]
  },
  {
   "cell_type": "code",
   "execution_count": null,
   "metadata": {},
   "outputs": [],
   "source": []
  },
  {
   "cell_type": "code",
   "execution_count": null,
   "metadata": {},
   "outputs": [],
   "source": []
  },
  {
   "cell_type": "code",
   "execution_count": null,
   "metadata": {},
   "outputs": [],
   "source": []
  }
 ],
 "metadata": {
  "kernelspec": {
   "display_name": "Python 3",
   "language": "python",
   "name": "python3"
  },
  "language_info": {
   "codemirror_mode": {
    "name": "ipython",
    "version": 3
   },
   "file_extension": ".py",
   "mimetype": "text/x-python",
   "name": "python",
   "nbconvert_exporter": "python",
   "pygments_lexer": "ipython3",
   "version": "3.12.4"
  }
 },
 "nbformat": 4,
 "nbformat_minor": 2
}
