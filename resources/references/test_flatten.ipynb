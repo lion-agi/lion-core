{
 "cells": [
  {
   "cell_type": "code",
   "execution_count": 1,
   "metadata": {},
   "outputs": [],
   "source": [
    "import sys\n",
    "from pathlib import Path\n",
    "\n",
    "here = Path.cwd().parent.parent\n",
    "sys.path.append(str(here))\n",
    "\n",
    "from lionfuncs import flatten, extract_json_schema\n",
    "\n"
   ]
  },
  {
   "cell_type": "code",
   "execution_count": 2,
   "metadata": {},
   "outputs": [
    {
     "name": "stdout",
     "output_type": "stream",
     "text": [
      "{'a|0': 1, 'a|2|0': {3}, 'g|b|0': 4, 'a|1|0|0': 2}\n"
     ]
    }
   ],
   "source": [
    "a = {\"a\": [1, [[2]], [{3}]], \"g\":{\"b\": [4]}}\n",
    "\n",
    "\n",
    "a1 = flatten(a)\n",
    "print(a1)"
   ]
  },
  {
   "cell_type": "code",
   "execution_count": 3,
   "metadata": {},
   "outputs": [
    {
     "name": "stdout",
     "output_type": "stream",
     "text": [
      "{('a', '0'): 1, ('a', '2', '0'): {3}, ('g', 'b', '0'): 4, ('a', '1', '0', '0'): 2}\n",
      "{('a', 0): 1, ('a', 2, 0): {3}, ('g', 'b', 0): 4, ('a', 1, 0, 0): 2}\n"
     ]
    }
   ],
   "source": [
    "a2 = flatten(a, dynamic=True, coerce_sequence=\"dict\", coerce_keys=False)\n",
    "a3 = flatten(a, dynamic=True, coerce_sequence=\"list\", coerce_keys=False)\n",
    "print(a2)\n",
    "print(a3)"
   ]
  },
  {
   "cell_type": "code",
   "execution_count": 4,
   "metadata": {},
   "outputs": [
    {
     "name": "stdout",
     "output_type": "stream",
     "text": [
      "{'a': [1, [[2]], [{3}]], 'g|b': [4]}\n",
      "{('a',): [1, [[2]], [{3}]], ('g', 'b'): [4]}\n"
     ]
    }
   ],
   "source": [
    "a1 = flatten(a, dynamic=False, coerce_keys=True)\n",
    "a2 = flatten(a, dynamic=False, coerce_keys=False)\n",
    "print(a1)\n",
    "print(a2)"
   ]
  },
  {
   "cell_type": "code",
   "execution_count": 5,
   "metadata": {},
   "outputs": [
    {
     "name": "stdout",
     "output_type": "stream",
     "text": [
      "{'a': [1, [[2]], [{3}]], 'g|b': [4]}\n",
      "{('a',): [1, [[2]], [{3}]], ('g', 'b'): [4]}\n"
     ]
    }
   ],
   "source": [
    "a1 = flatten(a, dynamic=False, coerce_sequence=False, coerce_keys=True)\n",
    "a2 = flatten(a, dynamic=False, coerce_sequence=False, coerce_keys=False)\n",
    "print(a1)\n",
    "print(a2)"
   ]
  },
  {
   "cell_type": "code",
   "execution_count": null,
   "metadata": {},
   "outputs": [],
   "source": []
  },
  {
   "cell_type": "code",
   "execution_count": 6,
   "metadata": {},
   "outputs": [],
   "source": [
    "a3 = flatten(a, dynamic=True, coerce_sequence=\"list\", coerce_keys=False)"
   ]
  },
  {
   "cell_type": "code",
   "execution_count": 7,
   "metadata": {},
   "outputs": [
    {
     "name": "stdout",
     "output_type": "stream",
     "text": [
      "{\n",
      "    \"type\": \"object\",\n",
      "    \"properties\": {\n",
      "        \"name\": {\n",
      "            \"type\": \"string\"\n",
      "        },\n",
      "        \"age\": {\n",
      "            \"type\": \"integer\"\n",
      "        },\n",
      "        \"is_student\": {\n",
      "            \"type\": \"boolean\"\n",
      "        },\n",
      "        \"address\": {\n",
      "            \"street\": {\n",
      "                \"type\": \"string\"\n",
      "            },\n",
      "            \"city\": {\n",
      "                \"type\": \"string\"\n",
      "            }\n",
      "        },\n",
      "        \"grades\": {\n",
      "            \"type\": \"array\",\n",
      "            \"items\": {\n",
      "                \"oneOf\": [\n",
      "                    {\n",
      "                        \"english\": {\n",
      "                            \"type\": \"integer\"\n",
      "                        }\n",
      "                    },\n",
      "                    {\n",
      "                        \"math\": {\n",
      "                            \"type\": \"integer\"\n",
      "                        }\n",
      "                    }\n",
      "                ]\n",
      "            }\n",
      "        }\n",
      "    }\n",
      "}\n"
     ]
    }
   ],
   "source": [
    "from lionfuncs import  as_readable_json\n",
    "\n",
    "data = {\n",
    "    \"name\": \"John Doe\",\n",
    "    \"age\": 30,\n",
    "    \"is_student\": False,\n",
    "    \"grades\": [{\"english\": 92}, {\"math\": 85}],\n",
    "    \"address\": {\n",
    "        \"street\": \"123 Main St\",\n",
    "        \"city\": \"Anytown\"\n",
    "    }\n",
    "}\n",
    "\n",
    "schema = extract_json_schema(data)\n",
    "print(as_readable_json(schema))"
   ]
  },
  {
   "cell_type": "code",
   "execution_count": 8,
   "metadata": {},
   "outputs": [
    {
     "name": "stdout",
     "output_type": "stream",
     "text": [
      "{\n",
      "    \"type\": \"object\",\n",
      "    \"properties\": {\n",
      "        \"is_employee\": {\n",
      "            \"type\": \"boolean\"\n",
      "        },\n",
      "        \"person\": {\n",
      "            \"name\": {\n",
      "                \"type\": \"string\"\n",
      "            },\n",
      "            \"age\": {\n",
      "                \"type\": \"integer\"\n",
      "            },\n",
      "            \"hobbies\": {\n",
      "                \"type\": \"array\",\n",
      "                \"items\": {\n",
      "                    \"type\": \"string\"\n",
      "                }\n",
      "            }\n",
      "        }\n",
      "    }\n",
      "}\n"
     ]
    }
   ],
   "source": [
    "data1 = {\n",
    "    \"person\": {\n",
    "        \"name\": \"Alice\",\n",
    "        \"age\": 30,\n",
    "        \"hobbies\": [\"reading\", \"swimming\"]\n",
    "    },\n",
    "    \"is_employee\": True\n",
    "}\n",
    "\n",
    "print(as_readable_json(extract_json_schema(data1)))"
   ]
  },
  {
   "cell_type": "code",
   "execution_count": 9,
   "metadata": {},
   "outputs": [
    {
     "name": "stdout",
     "output_type": "stream",
     "text": [
      "{\n",
      "    \"type\": \"object\",\n",
      "    \"properties\": {\n",
      "        \"total_products\": {\n",
      "            \"type\": \"integer\"\n",
      "        },\n",
      "        \"products\": {\n",
      "            \"type\": \"array\",\n",
      "            \"items\": {\n",
      "                \"id\": {\n",
      "                    \"type\": \"integer\"\n",
      "                },\n",
      "                \"name\": {\n",
      "                    \"type\": \"string\"\n",
      "                },\n",
      "                \"price\": {\n",
      "                    \"type\": \"number\"\n",
      "                }\n",
      "            }\n",
      "        }\n",
      "    }\n",
      "}\n"
     ]
    }
   ],
   "source": [
    "data2 = {\n",
    "    \"products\": [\n",
    "        {\"id\": 1, \"name\": \"Laptop\", \"price\": 999.99},\n",
    "        {\"id\": 2, \"name\": \"Mouse\", \"price\": 24.99}\n",
    "    ],\n",
    "    \"total_products\": 2\n",
    "}\n",
    "\n",
    "print(as_readable_json(extract_json_schema(data2)))"
   ]
  },
  {
   "cell_type": "code",
   "execution_count": 10,
   "metadata": {},
   "outputs": [
    {
     "name": "stdout",
     "output_type": "stream",
     "text": [
      "\n",
      "Example 1:\n",
      "S -> { PROPS@0 }\n",
      "PROPS@0 -> \n",
      "PROPS@0 -> name@1\n",
      "PROPS@0 -> PROPS@0 , age@2\n",
      "PROPS@0 -> PROPS@0 , is_student@3\n",
      "name@4 -> \"name\" : VALUE@5\n",
      "VALUE@5 -> STRING\n",
      "age@6 -> \"age\" : VALUE@7\n",
      "VALUE@7 -> INTEGER\n",
      "is_student@8 -> \"is_student\" : VALUE@9\n",
      "VALUE@9 -> BOOLEAN\n",
      "\n",
      "Example 2:\n",
      "S -> { PROPS@0 }\n",
      "PROPS@0 -> \n",
      "PROPS@0 -> person@1\n",
      "person@2 -> \"person\" : VALUE@3\n",
      "VALUE@3 -> { PROPS@4 }\n",
      "PROPS@4 -> \n",
      "PROPS@4 -> name@5\n",
      "PROPS@4 -> PROPS@4 , address@6\n",
      "name@7 -> \"name\" : VALUE@8\n",
      "VALUE@8 -> STRING\n",
      "address@9 -> \"address\" : VALUE@10\n",
      "VALUE@10 -> { PROPS@11 }\n",
      "PROPS@11 -> \n",
      "PROPS@11 -> street@12\n",
      "PROPS@11 -> PROPS@11 , city@13\n",
      "street@14 -> \"street\" : VALUE@15\n",
      "VALUE@15 -> STRING\n",
      "city@16 -> \"city\" : VALUE@17\n",
      "VALUE@17 -> STRING\n",
      "\n",
      "Example 3:\n",
      "S -> { PROPS@0 }\n",
      "PROPS@0 -> \n",
      "PROPS@0 -> users@1\n",
      "users@2 -> \"users\" : VALUE@3\n",
      "VALUE@3 -> [ ]\n",
      "VALUE@3 -> [ ITEMS@4 ]\n",
      "ITEMS@4 -> VALUE@5\n",
      "ITEMS@4 -> VALUE@5 , ITEMS@4\n",
      "VALUE@5 -> { PROPS@6 }\n",
      "PROPS@6 -> \n",
      "PROPS@6 -> id@7\n",
      "PROPS@6 -> PROPS@6 , name@8\n",
      "id@9 -> \"id\" : VALUE@10\n",
      "VALUE@10 -> INTEGER\n",
      "name@11 -> \"name\" : VALUE@12\n",
      "VALUE@12 -> STRING\n",
      "\n",
      "Regex pattern for schema1:\n",
      "^\\{\\s*(\"name\"\\s*:\\s*\"[^\"]*\"|\"age\"\\s*:\\s*-?\\d+|\"is_student\"\\s*:\\s*(true|false))(\\s*,\\s*(\"name\"\\s*:\\s*\"[^\"]*\"|\"age\"\\s*:\\s*-?\\d+|\"is_student\"\\s*:\\s*(true|false)))*\\s*\\}$\n",
      "\n",
      "Testing regex:\n",
      "Valid JSON matches: True\n",
      "Invalid JSON matches: False\n"
     ]
    }
   ],
   "source": [
    "import re\n",
    "from lionfuncs.parsers._extract_json_schema import json_schema_to_cfg, print_cfg, json_schema_to_regex\n",
    "\n",
    "\n",
    "# Example schemas\n",
    "schema1 = {\n",
    "    \"type\": \"object\",\n",
    "    \"properties\": {\n",
    "        \"name\": {\"type\": \"string\"},\n",
    "        \"age\": {\"type\": \"integer\"},\n",
    "        \"is_student\": {\"type\": \"boolean\"}\n",
    "    }\n",
    "}\n",
    "\n",
    "schema2 = {\n",
    "    \"type\": \"object\",\n",
    "    \"properties\": {\n",
    "        \"person\": {\n",
    "            \"type\": \"object\",\n",
    "            \"properties\": {\n",
    "                \"name\": {\"type\": \"string\"},\n",
    "                \"address\": {\n",
    "                    \"type\": \"object\",\n",
    "                    \"properties\": {\n",
    "                        \"street\": {\"type\": \"string\"},\n",
    "                        \"city\": {\"type\": \"string\"}\n",
    "                    }\n",
    "                }\n",
    "            }\n",
    "        }\n",
    "    }\n",
    "}\n",
    "\n",
    "schema3 = {\n",
    "    \"type\": \"object\",\n",
    "    \"properties\": {\n",
    "        \"users\": {\n",
    "            \"type\": \"array\",\n",
    "            \"items\": {\n",
    "                \"type\": \"object\",\n",
    "                \"properties\": {\n",
    "                    \"id\": {\"type\": \"integer\"},\n",
    "                    \"name\": {\"type\": \"string\"}\n",
    "                }\n",
    "            }\n",
    "        }\n",
    "    }\n",
    "}\n",
    "\n",
    "# Demonstrate examples\n",
    "for i, schema in enumerate([schema1, schema2, schema3], 1):\n",
    "    print(f\"\\nExample {i}:\")\n",
    "    cfg = json_schema_to_cfg(schema)\n",
    "    print_cfg(cfg)\n",
    "\n",
    "# Demonstrate regex\n",
    "regex_pattern = json_schema_to_regex(schema1)\n",
    "print(\"\\nRegex pattern for schema1:\")\n",
    "print(regex_pattern)\n",
    "\n",
    "valid_json = '{\"name\": \"John Doe\", \"age\": 30, \"is_student\": false}'\n",
    "invalid_json = '{\"name\": \"John Doe\", \"age\": \"thirty\", \"is_student\": \"yes\"}'\n",
    "\n",
    "print(\"\\nTesting regex:\")\n",
    "print(f\"Valid JSON matches: {bool(re.match(regex_pattern, valid_json))}\")\n",
    "print(f\"Invalid JSON matches: {bool(re.match(regex_pattern, invalid_json))}\")\n",
    "\n",
    "# File: lion_core/libs/json_schema_utils.py"
   ]
  }
 ],
 "metadata": {
  "kernelspec": {
   "display_name": "Python 3",
   "language": "python",
   "name": "python3"
  },
  "language_info": {
   "codemirror_mode": {
    "name": "ipython",
    "version": 3
   },
   "file_extension": ".py",
   "mimetype": "text/x-python",
   "name": "python",
   "nbconvert_exporter": "python",
   "pygments_lexer": "ipython3",
   "version": "3.12.1"
  }
 },
 "nbformat": 4,
 "nbformat_minor": 2
}
