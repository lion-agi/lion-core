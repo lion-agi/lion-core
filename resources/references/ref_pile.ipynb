{
 "cells": [
  {
   "cell_type": "markdown",
   "metadata": {},
   "source": [
    "### Lion-Core Reference: Pile\n",
    "\n",
    "pile object is used throughout lionagi system"
   ]
  },
  {
   "cell_type": "code",
   "execution_count": 1,
   "metadata": {},
   "outputs": [],
   "source": [
    "import sys\n",
    "from pathlib import Path\n",
    "\n",
    "here = Path.cwd().parent.parent\n",
    "sys.path.append(str(here))"
   ]
  },
  {
   "cell_type": "code",
   "execution_count": 2,
   "metadata": {},
   "outputs": [],
   "source": [
    "from lion_core.generic.pile import pile\n",
    "from lion_core.generic.component import Component"
   ]
  },
  {
   "cell_type": "code",
   "execution_count": 3,
   "metadata": {},
   "outputs": [],
   "source": [
    "nodes = [Component(content=i) for i in range(12)]\n",
    "a = nodes[0]\n",
    "b = nodes[1]\n",
    "c = nodes[2]\n",
    "\n",
    "p1 = pile(nodes[:4])\n",
    "p2 = pile(nodes[4:8])\n",
    "p3 = pile(nodes[8:])\n",
    "\n",
    "p4 = pile([p1, p2, p3])\n",
    "p5 = pile(nodes[8:])"
   ]
  },
  {
   "cell_type": "markdown",
   "metadata": {},
   "source": [
    "### Operator"
   ]
  },
  {
   "cell_type": "markdown",
   "metadata": {},
   "source": [
    "1. Addition / Subtraction (right hand is element-wise)"
   ]
  },
  {
   "cell_type": "code",
   "execution_count": 4,
   "metadata": {},
   "outputs": [
    {
     "name": "stdout",
     "output_type": "stream",
     "text": [
      "p1:  [0, 1, 2, 3]\n",
      "valid addition, + element 9:  [0, 1, 2, 3, 9]\n",
      "valid subtraction, - element 0:  [1, 2, 3]\n",
      "\n",
      "p1:  [0, 1, 2, 3]\n",
      "\n",
      "------ inplace ------\n",
      "p1:  [0, 1, 2, 3]\n",
      "valid addition, += element 9:  [0, 1, 2, 3, 9]\n",
      "valid subtraction, -= element 0:  [1, 2, 3, 9]\n",
      "\n",
      "p1:  [1, 2, 3, 9]\n"
     ]
    }
   ],
   "source": [
    "print(\"p1: \", [i.content for i in p1])\n",
    "\n",
    "# addition/subtraction treats right hand side as elements, not their values\n",
    "print(f\"valid addition, + element {nodes[9].content}: \", [i.content for i in p1+nodes[9]])\n",
    "print(f\"valid subtraction, - element {a.content}: \", [i.content for i in p1-a])\n",
    "print()\n",
    "print(\"p1: \", [i.content for i in p1])\n",
    "\n",
    "# inplace\n",
    "print(\"\\n------ inplace ------\")\n",
    "print(\"p1: \", [i.content for i in p1])\n",
    "p1 += nodes[9]\n",
    "print(f\"valid addition, += element {nodes[9].content}: \", [i.content for i in p1])\n",
    "\n",
    "p1 -= a\n",
    "print(f\"valid subtraction, -= element {a.content}: \", [i.content for i in p1])\n",
    "\n",
    "print()\n",
    "print(\"p1: \", [i.content for i in p1])"
   ]
  },
  {
   "cell_type": "markdown",
   "metadata": {},
   "source": [
    "2. OR/XOR/AND (right hand is another pile, we consider their values)"
   ]
  },
  {
   "cell_type": "code",
   "execution_count": 5,
   "metadata": {},
   "outputs": [
    {
     "name": "stdout",
     "output_type": "stream",
     "text": [
      "p1:  [1, 2, 3, 9]\n",
      "p2:  [4, 5, 6, 7]\n",
      "p5:  [8, 9, 10, 11]\n",
      "\n",
      "valid OR, p1|p2:  [1, 2, 3, 9, 4, 5, 6, 7]\n",
      "valid XOR, p1^p5:  [1, 2, 3, 8, 10, 11]\n",
      "valid AND, p1&p2:  []\n",
      "\n",
      "p1:  [1, 2, 3, 9]\n",
      "p2:  [4, 5, 6, 7]\n",
      "p5:  [8, 9, 10, 11]\n",
      "\n",
      "--- inplace ---\n",
      "p1:  [1, 2, 3, 9]\n",
      "p2:  [4, 5, 6, 7]\n",
      "p5:  [8, 9, 10, 11]\n",
      "\n",
      "p1 inplace OR:  [1, 2, 3, 9, 4, 5, 6, 7]\n",
      "p2:  [4, 5, 6, 7]\n",
      "\n",
      "p1 inplace XOR:  [1, 2, 3, 4, 5, 6, 7, 8, 10, 11]\n",
      "p5:  [8, 9, 10, 11]\n",
      "\n",
      "p1 inplace and:  [8, 10, 11]\n",
      "p5:  [8, 9, 10, 11]\n"
     ]
    }
   ],
   "source": [
    "print(\"p1: \", [i.content for i in p1])\n",
    "print(\"p2: \", [i.content for i in p2])\n",
    "print(\"p5: \", [i.content for i in p5])\n",
    "\n",
    "print()\n",
    "# addition/subtraction treats right hand side as elements, not their values\n",
    "print(f\"valid OR, p1|p2: \", [i.content for i in p1|p2])\n",
    "print(f\"valid XOR, p1^p5: \", [i.content for i in p1^p5])\n",
    "print(f\"valid AND, p1&p2: \", [i.content for i in p1 & p2])\n",
    "print()\n",
    "\n",
    "print(\"p1: \", [i.content for i in p1])\n",
    "print(\"p2: \", [i.content for i in p2])\n",
    "print(\"p5: \", [i.content for i in p5])\n",
    "\n",
    "print()\n",
    "print(\"--- inplace ---\")\n",
    "\n",
    "print(\"p1: \", [i.content for i in p1])\n",
    "print(\"p2: \", [i.content for i in p2])\n",
    "print(\"p5: \", [i.content for i in p5])\n",
    "\n",
    "print()\n",
    "# addition/subtraction treats right hand side as elements, not their values\n",
    "\n",
    "p1 |= p2\n",
    "print(\"p1 inplace OR: \", [i.content for i in p1])\n",
    "print(\"p2: \", [i.content for i in p2])\n",
    "\n",
    "print()\n",
    "p1 ^= p5\n",
    "print(\"p1 inplace XOR: \", [i.content for i in p1])\n",
    "print(\"p5: \", [i.content for i in p5])\n",
    "\n",
    "print()\n",
    "p1 &= p5\n",
    "print(\"p1 inplace and: \", [i.content for i in p1])\n",
    "print(\"p5: \", [i.content for i in p5])\n"
   ]
  },
  {
   "cell_type": "code",
   "execution_count": null,
   "metadata": {},
   "outputs": [],
   "source": []
  },
  {
   "cell_type": "code",
   "execution_count": null,
   "metadata": {},
   "outputs": [],
   "source": []
  },
  {
   "cell_type": "code",
   "execution_count": null,
   "metadata": {},
   "outputs": [],
   "source": []
  },
  {
   "cell_type": "code",
   "execution_count": null,
   "metadata": {},
   "outputs": [],
   "source": []
  },
  {
   "cell_type": "code",
   "execution_count": null,
   "metadata": {},
   "outputs": [],
   "source": []
  },
  {
   "cell_type": "code",
   "execution_count": null,
   "metadata": {},
   "outputs": [],
   "source": []
  },
  {
   "cell_type": "code",
   "execution_count": null,
   "metadata": {},
   "outputs": [],
   "source": []
  },
  {
   "cell_type": "code",
   "execution_count": null,
   "metadata": {},
   "outputs": [],
   "source": []
  },
  {
   "cell_type": "code",
   "execution_count": null,
   "metadata": {},
   "outputs": [],
   "source": [
    "print(\"p1: \", [i.content for i in p1])\n",
    "print(\"p2: \", [i.content for i in p2])\n",
    "print(\"p5: \", [i.content for i in p5])\n",
    "\n",
    "print()\n",
    "# addition/subtraction treats right hand side as elements, not their values\n",
    "print(f\"valid OR, p1|p2: \", [i.content for i in p1|p2])\n",
    "print(f\"valid XOR, p1^p5: \", [i.content for i in p1^p5])\n",
    "print()\n",
    "\n",
    "print(\"p1: \", [i.content for i in p1])\n",
    "print(\"p2: \", [i.content for i in p2])\n",
    "print(\"p5: \", [i.content for i in p5])"
   ]
  },
  {
   "cell_type": "code",
   "execution_count": null,
   "metadata": {},
   "outputs": [],
   "source": [
    "\n",
    "\n",
    "\n",
    "\n",
    "\n",
    "\n",
    "for i in p1+a:\n",
    "    \n",
    "    \n",
    "    print(str(i))\n",
    "\n",
    "\n",
    "print(\"addition: pile + pile: \")\n",
    "for i in p1+p2:\n",
    "    print(str(i))\n"
   ]
  },
  {
   "cell_type": "code",
   "execution_count": null,
   "metadata": {},
   "outputs": [],
   "source": [
    "# subtraction: pile - element\n",
    "\n",
    "print(\"subtraction: pile - element: \")\n",
    "for i in p1-a:\n",
    "    print(str(i))\n",
    "\n",
    "try:\n",
    "    print(\"subtraction: pile - pile: \")\n",
    "    for i in p1-p2:\n",
    "        print(str(i))\n",
    "except Exception as e:\n",
    "    print(e)"
   ]
  },
  {
   "cell_type": "code",
   "execution_count": null,
   "metadata": {},
   "outputs": [],
   "source": []
  },
  {
   "cell_type": "code",
   "execution_count": null,
   "metadata": {},
   "outputs": [],
   "source": []
  },
  {
   "cell_type": "code",
   "execution_count": null,
   "metadata": {},
   "outputs": [],
   "source": [
    "# let us create some nodes and put into pile\n",
    "\n",
    "nodes1 = [Component(content=i) for i in [\"A\", \"B\", \"C\"]]\n",
    "nodes2 = [Component(content=i) for i in [\"D\", \"E\", \"F\"]]\n",
    "nodes3 = [nodes1[0], nodes1[1], nodes2[0]]\n",
    "\n",
    "p1 = pile(nodes1)\n",
    "p2 = pile(nodes2)\n",
    "p3 = pile(nodes3)\n",
    "\n",
    "ps = [p1, p2, p3]"
   ]
  },
  {
   "cell_type": "code",
   "execution_count": null,
   "metadata": {},
   "outputs": [],
   "source": [
    "for i in ps:\n",
    "    print(len(i))\n"
   ]
  },
  {
   "cell_type": "code",
   "execution_count": null,
   "metadata": {},
   "outputs": [],
   "source": [
    "## or\n",
    "\n",
    "print(\"OR: \", [i.content for i in (p1 | p2)])\n",
    "print(\"AND: \", [i.content for i in (p1 & p3)])\n",
    "print(\"XOR: \", [i.content for i in (p2 ^ p3)])"
   ]
  },
  {
   "cell_type": "code",
   "execution_count": null,
   "metadata": {},
   "outputs": [],
   "source": []
  },
  {
   "cell_type": "code",
   "execution_count": null,
   "metadata": {},
   "outputs": [],
   "source": [
    "## inplace\n",
    "p4 = pile()\n",
    "p4 |= p2\n",
    "\n",
    "print(\"IN-PLACE OR: \", [i.content for i in p4])\n",
    "\n",
    "p4 &= p3\n",
    "print(\"IN-PLACE AND: \", [i.content for i in p4])\n",
    "\n",
    "p4 ^= p1\n",
    "print(\"IN-PLACE XOR: \", [i.content for i in p4])\n"
   ]
  },
  {
   "cell_type": "code",
   "execution_count": null,
   "metadata": {},
   "outputs": [],
   "source": []
  },
  {
   "cell_type": "code",
   "execution_count": null,
   "metadata": {},
   "outputs": [],
   "source": []
  },
  {
   "cell_type": "code",
   "execution_count": null,
   "metadata": {},
   "outputs": [],
   "source": [
    "# in-place or\n",
    "\n",
    "p1 |= p2\n",
    "for i in p1:\n",
    "    print(i.content)"
   ]
  },
  {
   "cell_type": "code",
   "execution_count": null,
   "metadata": {},
   "outputs": [],
   "source": [
    "## xor\n",
    "\n",
    "for i in (p2 ^ p3):\n",
    "    print(i.content)"
   ]
  },
  {
   "cell_type": "code",
   "execution_count": null,
   "metadata": {},
   "outputs": [],
   "source": [
    "## in-place xor\n",
    "\n",
    "p2 ^= p3\n",
    "for i in p2:\n",
    "    print(i.content)\n"
   ]
  },
  {
   "cell_type": "code",
   "execution_count": null,
   "metadata": {},
   "outputs": [],
   "source": [
    "len(p1)"
   ]
  },
  {
   "cell_type": "code",
   "execution_count": null,
   "metadata": {},
   "outputs": [],
   "source": [
    "len(p1 ^ p2)"
   ]
  },
  {
   "cell_type": "code",
   "execution_count": null,
   "metadata": {},
   "outputs": [],
   "source": [
    "## containment\n",
    "\n",
    "p1 in p2"
   ]
  },
  {
   "cell_type": "code",
   "execution_count": null,
   "metadata": {},
   "outputs": [],
   "source": [
    "## inclusion\n",
    "\n",
    "p1.include(p2)"
   ]
  },
  {
   "cell_type": "code",
   "execution_count": null,
   "metadata": {},
   "outputs": [],
   "source": [
    "p1"
   ]
  },
  {
   "cell_type": "code",
   "execution_count": null,
   "metadata": {},
   "outputs": [],
   "source": [
    "p1.include(list(p2))\n",
    "p1"
   ]
  },
  {
   "cell_type": "code",
   "execution_count": null,
   "metadata": {},
   "outputs": [],
   "source": [
    "## get item\n",
    "\n",
    "aa = p2[0]\n",
    "aa"
   ]
  },
  {
   "cell_type": "code",
   "execution_count": null,
   "metadata": {},
   "outputs": [],
   "source": [
    "## set item\n",
    "\n",
    "p1[0] = Component(content=\"have a good day\")\n",
    "print(p1[0])\n",
    "print(len(p1))"
   ]
  },
  {
   "cell_type": "code",
   "execution_count": null,
   "metadata": {},
   "outputs": [],
   "source": [
    "# p1[:4] = li.pile([li.Node(content=\"have a good day\") for i in range(4)])"
   ]
  },
  {
   "cell_type": "code",
   "execution_count": null,
   "metadata": {},
   "outputs": [],
   "source": [
    "p1.insert(0, Component(content=\"have a good day\"))"
   ]
  },
  {
   "cell_type": "code",
   "execution_count": null,
   "metadata": {},
   "outputs": [],
   "source": [
    "## other\n",
    "node = Component(content=\"hello world\")\n",
    "p1 |= node\n",
    "print(len(p1))"
   ]
  },
  {
   "cell_type": "code",
   "execution_count": null,
   "metadata": {},
   "outputs": [],
   "source": [
    "# you can remove an element from the pile by -= an object directly\n",
    "\n",
    "\n",
    "\n",
    "p1 -= nodes1[1]  # the original sequence second element was B\n",
    "# p1.to_df()"
   ]
  },
  {
   "cell_type": "code",
   "execution_count": null,
   "metadata": {},
   "outputs": [],
   "source": [
    "# p1.to_graph()"
   ]
  },
  {
   "cell_type": "code",
   "execution_count": null,
   "metadata": {},
   "outputs": [],
   "source": [
    "nodes1[1] in p1"
   ]
  },
  {
   "cell_type": "code",
   "execution_count": null,
   "metadata": {},
   "outputs": [],
   "source": [
    "try:\n",
    "    p1 - nodes1[1]\n",
    "except Exception as e:\n",
    "    print(e)"
   ]
  },
  {
   "cell_type": "code",
   "execution_count": null,
   "metadata": {},
   "outputs": [],
   "source": [
    "a = pile()\n",
    "b = pile()\n",
    "\n",
    "list(a | b)"
   ]
  },
  {
   "cell_type": "code",
   "execution_count": null,
   "metadata": {},
   "outputs": [],
   "source": [
    "import asyncio\n",
    "\n",
    "p = pile(items=[Component(content=i) for i in range(100)])\n",
    "\n",
    "total = 0\n",
    "async for item in p:\n",
    "    total += item.content\n",
    "    await asyncio.sleep(0.01)\n",
    "\n",
    "\n",
    "total == sum(range(100))"
   ]
  }
 ],
 "metadata": {
  "kernelspec": {
   "display_name": ".venv",
   "language": "python",
   "name": "python3"
  },
  "language_info": {
   "codemirror_mode": {
    "name": "ipython",
    "version": 3
   },
   "file_extension": ".py",
   "mimetype": "text/x-python",
   "name": "python",
   "nbconvert_exporter": "python",
   "pygments_lexer": "ipython3",
   "version": "3.12.1"
  }
 },
 "nbformat": 4,
 "nbformat_minor": 2
}
