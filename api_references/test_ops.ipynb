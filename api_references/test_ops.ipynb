{
 "cells": [
  {
   "cell_type": "code",
   "execution_count": 1,
   "metadata": {},
   "outputs": [],
   "source": [
    "from lion_core.session.branch import Branch\n",
    "from lion_service import iModel"
   ]
  },
  {
   "cell_type": "code",
   "execution_count": 2,
   "metadata": {},
   "outputs": [],
   "source": [
    "gpt4o = iModel(\n",
    "    provider=\"openai\",\n",
    "    api_key=\"OPENAI_API_KEY\",\n",
    "    task=\"chat\",\n",
    "    model='gpt-4o',\n",
    "    interval_tokens=1_000_000,\n",
    "    interval_requests=10_000,\n",
    "    max_tokens=4_000,\n",
    "    temperature=0.1,\n",
    ")"
   ]
  },
  {
   "cell_type": "code",
   "execution_count": 3,
   "metadata": {},
   "outputs": [],
   "source": [
    "from pydantic import BaseModel, Field\n",
    "from lion_core.session.branch import Branch\n",
    "\n",
    "class SelectionModel(BaseModel):    \n",
    "    selected: list = Field([], description=\"select from [positive, negative, neutral]\")\n",
    "\n",
    "branch = Branch(\n",
    "    operative_model=SelectionModel,\n",
    "    imodel=gpt4o,\n",
    ")\n",
    "\n",
    "a = await branch.operate(\n",
    "    instruction=\"Answer the philosophical question provided\",\n",
    "    guidance=\"Reply concisely and informatively\",\n",
    "    context=[\"What is the meaning of life?\"],\n",
    "    reason=True,\n",
    "    temperature=0.3\n",
    ")"
   ]
  },
  {
   "cell_type": "code",
   "execution_count": 4,
   "metadata": {},
   "outputs": [
    {
     "name": "stdout",
     "output_type": "stream",
     "text": [
      "{\n",
      "    \"selected\": [],\n",
      "    \"title\": \"Exploring the Meaning of Life\",\n",
      "    \"content\": \"The meaning of life is a deeply philosophical question that has been contemplated by thinkers, theologians, and scientists for centuries. Various perspectives offer different interpretations: some suggest that the meaning of life is to seek happiness, others propose it is to pursue knowledge or to fulfill a divine purpose. Existentialists argue that life has no inherent meaning, and it is up to individuals to create their own purpose. Ultimately, the meaning of life may be subjective and vary from person to person, depending on their beliefs, experiences, and values.\",\n",
      "    \"reason\": {\n",
      "        \"title\": \"Philosophical Perspectives on Life's Meaning\",\n",
      "        \"content\": \"The response provides a concise overview of the diverse philosophical perspectives on the meaning of life, acknowledging that it is a complex and subjective question without a definitive answer.\",\n",
      "        \"confidence_score\": 0.95\n",
      "    }\n",
      "}\n"
     ]
    }
   ],
   "source": [
    "from lionfuncs import as_readable_json\n",
    "print(as_readable_json(a))"
   ]
  },
  {
   "cell_type": "code",
   "execution_count": 5,
   "metadata": {},
   "outputs": [
    {
     "data": {
      "text/html": [
       "<div>\n",
       "<style scoped>\n",
       "    .dataframe tbody tr th:only-of-type {\n",
       "        vertical-align: middle;\n",
       "    }\n",
       "\n",
       "    .dataframe tbody tr th {\n",
       "        vertical-align: top;\n",
       "    }\n",
       "\n",
       "    .dataframe thead th {\n",
       "        text-align: right;\n",
       "    }\n",
       "</style>\n",
       "<table border=\"1\" class=\"dataframe\">\n",
       "  <thead>\n",
       "    <tr style=\"text-align: right;\">\n",
       "      <th></th>\n",
       "      <th>timestamp</th>\n",
       "      <th>lion_class</th>\n",
       "      <th>role</th>\n",
       "      <th>content</th>\n",
       "      <th>ln_id</th>\n",
       "      <th>sender</th>\n",
       "      <th>recipient</th>\n",
       "      <th>metadata</th>\n",
       "    </tr>\n",
       "  </thead>\n",
       "  <tbody>\n",
       "    <tr>\n",
       "      <th>0</th>\n",
       "      <td>2024-10-19T18:22:58.549724</td>\n",
       "      <td>Instruction</td>\n",
       "      <td>user</td>\n",
       "      <td>{'guidance': 'Reply concisely and informativel...</td>\n",
       "      <td>ln1c4abf0802a30a2-491-1ad-eba8-196f644c362</td>\n",
       "      <td>user</td>\n",
       "      <td>lnfe7143be66ee817-16449196-a-c42d4-fad473b</td>\n",
       "      <td>{'last_updated': {'sender': 1729376581.527151,...</td>\n",
       "    </tr>\n",
       "    <tr>\n",
       "      <th>1</th>\n",
       "      <td>2024-10-19T18:23:01.525797</td>\n",
       "      <td>AssistantResponse</td>\n",
       "      <td>assistant</td>\n",
       "      <td>{'assistant_response': {'selected': [], 'title...</td>\n",
       "      <td>lnf58395-e2187-2-6fc7819921b0-6566158173b4</td>\n",
       "      <td>lnfe7143be66ee817-16449196-a-c42d4-fad473b</td>\n",
       "      <td>user</td>\n",
       "      <td>{'model_response': {'id': 'chatcmpl-AKC8YD2QqX...</td>\n",
       "    </tr>\n",
       "  </tbody>\n",
       "</table>\n",
       "</div>"
      ],
      "text/plain": [
       "                    timestamp         lion_class       role  \\\n",
       "0  2024-10-19T18:22:58.549724        Instruction       user   \n",
       "1  2024-10-19T18:23:01.525797  AssistantResponse  assistant   \n",
       "\n",
       "                                             content  \\\n",
       "0  {'guidance': 'Reply concisely and informativel...   \n",
       "1  {'assistant_response': {'selected': [], 'title...   \n",
       "\n",
       "                                        ln_id  \\\n",
       "0  ln1c4abf0802a30a2-491-1ad-eba8-196f644c362   \n",
       "1  lnf58395-e2187-2-6fc7819921b0-6566158173b4   \n",
       "\n",
       "                                       sender  \\\n",
       "0                                        user   \n",
       "1  lnfe7143be66ee817-16449196-a-c42d4-fad473b   \n",
       "\n",
       "                                    recipient  \\\n",
       "0  lnfe7143be66ee817-16449196-a-c42d4-fad473b   \n",
       "1                                        user   \n",
       "\n",
       "                                            metadata  \n",
       "0  {'last_updated': {'sender': 1729376581.527151,...  \n",
       "1  {'model_response': {'id': 'chatcmpl-AKC8YD2QqX...  "
      ]
     },
     "execution_count": 5,
     "metadata": {},
     "output_type": "execute_result"
    }
   ],
   "source": [
    "branch.to_df()"
   ]
  },
  {
   "cell_type": "code",
   "execution_count": 6,
   "metadata": {},
   "outputs": [],
   "source": [
    "async def mock_search(query: str):\n",
    "    \"\"\"\n",
    "    A mock search function that returns a string\n",
    "    \"\"\"\n",
    "    return f\"Search results for: {query}\"\n",
    "\n",
    "\n",
    "res = await branch.operate(\n",
    "    instruction=\"Use search tool to gather information on the topic,\",\n",
    "    guidance=\"Provide a summary of the information\",\n",
    "    context=[\"What is the meaning of life?\"],\n",
    "    reason=True,\n",
    "    actions=True,\n",
    "    tools=[mock_search],\n",
    "    clear_messages=True,\n",
    ")"
   ]
  },
  {
   "cell_type": "code",
   "execution_count": 7,
   "metadata": {},
   "outputs": [
    {
     "name": "stdout",
     "output_type": "stream",
     "text": [
      "{\n",
      "    \"selected\": [],\n",
      "    \"title\": \"Exploring the Meaning of Life\",\n",
      "    \"content\": \"The task involves gathering information on the philosophical question of the meaning of life. This question has been explored by various philosophers, theologians, and thinkers throughout history, with diverse interpretations and answers. Some view it through the lens of religion, others through existential or scientific perspectives. The task requires using a search tool to gather insights and summarize the findings.\",\n",
      "    \"reason\": {\n",
      "        \"title\": \"Initial Exploration\",\n",
      "        \"content\": \"The task is to explore the meaning of life, a complex and multifaceted question. The approach involves using a search tool to gather diverse perspectives and summarize them.\",\n",
      "        \"confidence_score\": 0.9\n",
      "    },\n",
      "    \"action_responses\": [\n",
      "        {\n",
      "            \"function\": \"mock_search\",\n",
      "            \"arguments\": {\n",
      "                \"query\": \"meaning of life\"\n",
      "            },\n",
      "            \"output\": \"Search results for: meaning of life\"\n",
      "        }\n",
      "    ],\n",
      "    \"action_requests\": [\n",
      "        {\n",
      "            \"function\": \"mock_search\",\n",
      "            \"arguments\": {\n",
      "                \"query\": \"meaning of life\"\n",
      "            }\n",
      "        }\n",
      "    ],\n",
      "    \"action_required\": true\n",
      "}\n"
     ]
    }
   ],
   "source": [
    "print(as_readable_json(res))"
   ]
  },
  {
   "cell_type": "code",
   "execution_count": 8,
   "metadata": {},
   "outputs": [
    {
     "data": {
      "text/html": [
       "<div>\n",
       "<style scoped>\n",
       "    .dataframe tbody tr th:only-of-type {\n",
       "        vertical-align: middle;\n",
       "    }\n",
       "\n",
       "    .dataframe tbody tr th {\n",
       "        vertical-align: top;\n",
       "    }\n",
       "\n",
       "    .dataframe thead th {\n",
       "        text-align: right;\n",
       "    }\n",
       "</style>\n",
       "<table border=\"1\" class=\"dataframe\">\n",
       "  <thead>\n",
       "    <tr style=\"text-align: right;\">\n",
       "      <th></th>\n",
       "      <th>timestamp</th>\n",
       "      <th>lion_class</th>\n",
       "      <th>role</th>\n",
       "      <th>content</th>\n",
       "      <th>ln_id</th>\n",
       "      <th>sender</th>\n",
       "      <th>recipient</th>\n",
       "      <th>metadata</th>\n",
       "    </tr>\n",
       "  </thead>\n",
       "  <tbody>\n",
       "    <tr>\n",
       "      <th>0</th>\n",
       "      <td>2024-10-19T18:23:01.549182</td>\n",
       "      <td>Instruction</td>\n",
       "      <td>user</td>\n",
       "      <td>{'guidance': 'Provide a summary of the informa...</td>\n",
       "      <td>ln963f0ec8-26-e7f1-dd85c7-bc59f1d205e4e4b3</td>\n",
       "      <td>user</td>\n",
       "      <td>lnfe7143be66ee817-16449196-a-c42d4-fad473b</td>\n",
       "      <td>{'last_updated': {'sender': 1729376583.557962,...</td>\n",
       "    </tr>\n",
       "    <tr>\n",
       "      <th>1</th>\n",
       "      <td>2024-10-19T18:23:03.553584</td>\n",
       "      <td>AssistantResponse</td>\n",
       "      <td>assistant</td>\n",
       "      <td>{'assistant_response': {'selected': [], 'title...</td>\n",
       "      <td>ln8744e93dd-2b6f-9a8a7-7cd5-1b2348de28586e</td>\n",
       "      <td>lnfe7143be66ee817-16449196-a-c42d4-fad473b</td>\n",
       "      <td>user</td>\n",
       "      <td>{'model_response': {'id': 'chatcmpl-AKC8bi7ezx...</td>\n",
       "    </tr>\n",
       "    <tr>\n",
       "      <th>2</th>\n",
       "      <td>2024-10-19T18:23:03.558131</td>\n",
       "      <td>ActionRequest</td>\n",
       "      <td>assistant</td>\n",
       "      <td>{'action_request': {'function': 'mock_search',...</td>\n",
       "      <td>ln83f28317e0a-ae-fa10a08c3-20-9019299303cf</td>\n",
       "      <td>lnfe7143be66ee817-16449196-a-c42d4-fad473b</td>\n",
       "      <td>lnbb30ee7b270cd-1b7-bf951-0d-14101315660f5</td>\n",
       "      <td>{'last_updated': {'sender': 1729376583.558372,...</td>\n",
       "    </tr>\n",
       "    <tr>\n",
       "      <th>3</th>\n",
       "      <td>2024-10-19T18:23:03.558259</td>\n",
       "      <td>ActionResponse</td>\n",
       "      <td>assistant</td>\n",
       "      <td>{'action_request_id': 'ln83f28317e0a-ae-fa10a0...</td>\n",
       "      <td>ln12e51b6-6fb-08d602-f-7590c2d08da0dc16238</td>\n",
       "      <td>lnbb30ee7b270cd-1b7-bf951-0d-14101315660f5</td>\n",
       "      <td>lnfe7143be66ee817-16449196-a-c42d4-fad473b</td>\n",
       "      <td>{'last_updated': {'content': 1729376583.558433...</td>\n",
       "    </tr>\n",
       "  </tbody>\n",
       "</table>\n",
       "</div>"
      ],
      "text/plain": [
       "                    timestamp         lion_class       role  \\\n",
       "0  2024-10-19T18:23:01.549182        Instruction       user   \n",
       "1  2024-10-19T18:23:03.553584  AssistantResponse  assistant   \n",
       "2  2024-10-19T18:23:03.558131      ActionRequest  assistant   \n",
       "3  2024-10-19T18:23:03.558259     ActionResponse  assistant   \n",
       "\n",
       "                                             content  \\\n",
       "0  {'guidance': 'Provide a summary of the informa...   \n",
       "1  {'assistant_response': {'selected': [], 'title...   \n",
       "2  {'action_request': {'function': 'mock_search',...   \n",
       "3  {'action_request_id': 'ln83f28317e0a-ae-fa10a0...   \n",
       "\n",
       "                                        ln_id  \\\n",
       "0  ln963f0ec8-26-e7f1-dd85c7-bc59f1d205e4e4b3   \n",
       "1  ln8744e93dd-2b6f-9a8a7-7cd5-1b2348de28586e   \n",
       "2  ln83f28317e0a-ae-fa10a08c3-20-9019299303cf   \n",
       "3  ln12e51b6-6fb-08d602-f-7590c2d08da0dc16238   \n",
       "\n",
       "                                       sender  \\\n",
       "0                                        user   \n",
       "1  lnfe7143be66ee817-16449196-a-c42d4-fad473b   \n",
       "2  lnfe7143be66ee817-16449196-a-c42d4-fad473b   \n",
       "3  lnbb30ee7b270cd-1b7-bf951-0d-14101315660f5   \n",
       "\n",
       "                                    recipient  \\\n",
       "0  lnfe7143be66ee817-16449196-a-c42d4-fad473b   \n",
       "1                                        user   \n",
       "2  lnbb30ee7b270cd-1b7-bf951-0d-14101315660f5   \n",
       "3  lnfe7143be66ee817-16449196-a-c42d4-fad473b   \n",
       "\n",
       "                                            metadata  \n",
       "0  {'last_updated': {'sender': 1729376583.557962,...  \n",
       "1  {'model_response': {'id': 'chatcmpl-AKC8bi7ezx...  \n",
       "2  {'last_updated': {'sender': 1729376583.558372,...  \n",
       "3  {'last_updated': {'content': 1729376583.558433...  "
      ]
     },
     "execution_count": 8,
     "metadata": {},
     "output_type": "execute_result"
    }
   ],
   "source": [
    "branch.to_df()"
   ]
  },
  {
   "cell_type": "code",
   "execution_count": 9,
   "metadata": {},
   "outputs": [
    {
     "data": {
      "text/markdown": [
       "\n",
       "---\n",
       " # Task\n",
       "## **Task guidance**\n",
       "Provide a summary of the information\n",
       "\n",
       "\n",
       "## **Task instruction**\n",
       "Use search tool to gather information on the topic,\n",
       "\n",
       "\n",
       "## **Task context**\n",
       "What is the meaning of life?\n",
       "- respond_schema_info: {'$defs': {'ActionRequestModel': {'properties': {'function': {'anyOf': [{'type': 'string'}, {'type': 'null'}], 'default': None, 'description': 'Specify the name of the function to execute. **Choose from the provided `tool_schemas`; do not invent function names.**', 'examples': ['print', 'add', 'len'], 'title': 'Function'}, 'arguments': {'default': {}, 'description': 'Provide the arguments to pass to the function as a dictionary. **Use argument names and types as specified in the `tool_schemas`; do not invent argument names.**', 'examples': [{'num1': 1, 'num2': 2}, {'x': 'hello', 'y': 'world'}], 'title': 'Arguments', 'type': 'object'}}, 'title': 'ActionRequestModel', 'type': 'object'}, 'ReasonModel': {'properties': {'title': {'anyOf': [{'type': 'string'}, {'type': 'null'}], 'default': None, 'title': 'Title'}, 'content': {'anyOf': [{'type': 'string'}, {'type': 'null'}], 'default': None, 'title': 'Content'}, 'confidence_score': {'anyOf': [{'type': 'number'}, {'type': 'null'}], 'default': None, 'description': 'Provide an objective numeric confidence score between 0 and 1 (with 3 decimal places) indicating how likely you successfully achieved the task according to user expectation. Interpret the score as:\\n- **1**: Very confident in a good job.\\n- **0**: Not confident at all.\\n- **[0.8, 1]**: You can continue the path of reasoning if needed.\\n- **[0.5, 0.8)**: Recheck your reasoning and consider reverting to a previous, more confident reasoning path.\\n- **[0, 0.5)**: Stop because the reasoning is starting to be off track.', 'examples': [0.821, 0.257, 0.923, 0.439], 'title': 'Confidence Score'}}, 'title': 'ReasonModel', 'type': 'object'}}, 'required': ['title', 'content'], 'title': 'SelectionModelStepRequest', 'type': 'object'} \n",
       "\n",
       "- tool_schemas: {'tools': [{'type': 'function', 'function': {'name': 'mock_search', 'description': 'A mock search function that returns a string', 'parameters': {'type': 'object', 'properties': {'query': {'type': 'string', 'description': None}}, 'required': ['query']}}}]} \n",
       "\n",
       "\n",
       "\n",
       "## **Task response format**\n",
       "**MUST RETURN JSON-PARSEABLE RESPONSE ENCLOSED BY JSON CODE BLOCKS.** \n",
       "```json\n",
       "{'selected': {'default': [], 'description': 'select from [positive, negative, neutral]', 'items': {}, 'title': 'Selected', 'type': 'array'}, 'title': {'description': 'Provide a concise title summarizing the step.', 'title': 'Title', 'type': 'string'}, 'content': {'description': 'Describe the content of the step in detail.', 'title': 'Content', 'type': 'string'}, 'reason': {'anyOf': [{'$ref': '#/$defs/ReasonModel'}, {'type': 'null'}], 'default': None, 'description': '**a concise reasoning for the step**', 'title': 'Reason'}, 'action_requests': {'default': [], 'description': 'List of actions to be performed if `action_required` is **True**. Leave empty if no action is required. **When providing actions, you must choose from the provided `tool_schemas`. Do not invent function or argument names.**', 'items': {'$ref': '#/$defs/ActionRequestModel'}, 'title': 'Actions', 'type': 'array'}, 'action_required': {'default': False, 'description': 'Specify whether the step requires actions to be performed. If **True**, the actions in `action_requests` must be performed. If **False**, the actions in `action_requests` are optional. If no tool_schemas are provided, this field is ignored.', 'title': 'Action Required', 'type': 'boolean'}}\n",
       "```\n",
       "\n",
       "\n",
       "\n",
       "\n",
       "---\n"
      ],
      "text/plain": [
       "<IPython.core.display.Markdown object>"
      ]
     },
     "execution_count": 9,
     "metadata": {},
     "output_type": "execute_result"
    }
   ],
   "source": [
    "from IPython.display import Markdown\n",
    "\n",
    "Markdown(branch.messages[0].chat_msg['content'])"
   ]
  },
  {
   "cell_type": "code",
   "execution_count": 10,
   "metadata": {},
   "outputs": [],
   "source": [
    "res = await branch.chat(\n",
    "    \"provide 5 function calling query\",\n",
    "    tools=[mock_search],\n",
    "    clear_messages=True,\n",
    "    invoke_action=True,\n",
    "    imodel=gpt4o,\n",
    ")"
   ]
  },
  {
   "cell_type": "code",
   "execution_count": 11,
   "metadata": {},
   "outputs": [
    {
     "name": "stdout",
     "output_type": "stream",
     "text": [
      "Here are five function calling queries using the specified format:\n",
      "\n",
      "1. \n",
      "```json\n",
      "{'function': 'mock_search', 'arguments': {'query': 'latest technology trends'}}\n",
      "```\n",
      "\n",
      "2. \n",
      "```json\n",
      "{'function': 'mock_search', 'arguments': {'query': 'best practices in software development'}}\n",
      "```\n",
      "\n",
      "3. \n",
      "```json\n",
      "{'function': 'mock_search', 'arguments': {'query': 'top programming languages in 2023'}}\n",
      "```\n",
      "\n",
      "4. \n",
      "```json\n",
      "{'function': 'mock_search', 'arguments': {'query': 'impact of AI on job market'}}\n",
      "```\n",
      "\n",
      "5. \n",
      "```json\n",
      "{'function': 'mock_search', 'arguments': {'query': 'future of renewable energy'}}\n",
      "```\n"
     ]
    }
   ],
   "source": [
    "print(res)"
   ]
  },
  {
   "cell_type": "code",
   "execution_count": 12,
   "metadata": {},
   "outputs": [
    {
     "data": {
      "text/html": [
       "<div>\n",
       "<style scoped>\n",
       "    .dataframe tbody tr th:only-of-type {\n",
       "        vertical-align: middle;\n",
       "    }\n",
       "\n",
       "    .dataframe tbody tr th {\n",
       "        vertical-align: top;\n",
       "    }\n",
       "\n",
       "    .dataframe thead th {\n",
       "        text-align: right;\n",
       "    }\n",
       "</style>\n",
       "<table border=\"1\" class=\"dataframe\">\n",
       "  <thead>\n",
       "    <tr style=\"text-align: right;\">\n",
       "      <th></th>\n",
       "      <th>timestamp</th>\n",
       "      <th>lion_class</th>\n",
       "      <th>role</th>\n",
       "      <th>content</th>\n",
       "      <th>ln_id</th>\n",
       "      <th>sender</th>\n",
       "      <th>recipient</th>\n",
       "      <th>metadata</th>\n",
       "    </tr>\n",
       "  </thead>\n",
       "  <tbody>\n",
       "    <tr>\n",
       "      <th>0</th>\n",
       "      <td>2024-10-19T18:23:03.582229</td>\n",
       "      <td>Instruction</td>\n",
       "      <td>user</td>\n",
       "      <td>{'instruction': 'provide 5 function calling qu...</td>\n",
       "      <td>ln2595d3d6-519b-ed92d9-b5a35de6-7ae795f054</td>\n",
       "      <td>user</td>\n",
       "      <td>lnfe7143be66ee817-16449196-a-c42d4-fad473b</td>\n",
       "      <td>{'last_updated': {'sender': 1729376584.932844,...</td>\n",
       "    </tr>\n",
       "    <tr>\n",
       "      <th>1</th>\n",
       "      <td>2024-10-19T18:23:04.932711</td>\n",
       "      <td>AssistantResponse</td>\n",
       "      <td>assistant</td>\n",
       "      <td>{'assistant_response': 'Here are five function...</td>\n",
       "      <td>ln35f2aa58b9-889-7dfddf-4ca5b3365-0898fdab</td>\n",
       "      <td>lnfe7143be66ee817-16449196-a-c42d4-fad473b</td>\n",
       "      <td>user</td>\n",
       "      <td>{'model_response': {'id': 'chatcmpl-AKC8dtY389...</td>\n",
       "    </tr>\n",
       "    <tr>\n",
       "      <th>2</th>\n",
       "      <td>2024-10-19T18:23:04.933964</td>\n",
       "      <td>ActionRequest</td>\n",
       "      <td>assistant</td>\n",
       "      <td>{'action_request': {'function': 'mock_search',...</td>\n",
       "      <td>ln0c09f0b79ba-35-ed0663e-a647a1d81-751e102</td>\n",
       "      <td>lnfe7143be66ee817-16449196-a-c42d4-fad473b</td>\n",
       "      <td>lnbb30ee7b270cd-1b7-bf951-0d-14101315660f5</td>\n",
       "      <td>{'last_updated': {'sender': 1729376584.934068,...</td>\n",
       "    </tr>\n",
       "    <tr>\n",
       "      <th>3</th>\n",
       "      <td>2024-10-19T18:23:04.934015</td>\n",
       "      <td>ActionResponse</td>\n",
       "      <td>assistant</td>\n",
       "      <td>{'action_request_id': 'ln0c09f0b79ba-35-ed0663...</td>\n",
       "      <td>lnc94e29803-839c22f5d3-db7cf-e9b-415df8a6b</td>\n",
       "      <td>lnbb30ee7b270cd-1b7-bf951-0d-14101315660f5</td>\n",
       "      <td>lnfe7143be66ee817-16449196-a-c42d4-fad473b</td>\n",
       "      <td>{'last_updated': {'content': 1729376584.934102...</td>\n",
       "    </tr>\n",
       "    <tr>\n",
       "      <th>4</th>\n",
       "      <td>2024-10-19T18:23:04.934134</td>\n",
       "      <td>ActionRequest</td>\n",
       "      <td>assistant</td>\n",
       "      <td>{'action_request': {'function': 'mock_search',...</td>\n",
       "      <td>ln6f33f7514b88937262-a2-3f27-2f-a04311eb6a</td>\n",
       "      <td>lnfe7143be66ee817-16449196-a-c42d4-fad473b</td>\n",
       "      <td>lnbb30ee7b270cd-1b7-bf951-0d-14101315660f5</td>\n",
       "      <td>{'last_updated': {'sender': 1729376584.93423, ...</td>\n",
       "    </tr>\n",
       "    <tr>\n",
       "      <th>5</th>\n",
       "      <td>2024-10-19T18:23:04.934172</td>\n",
       "      <td>ActionResponse</td>\n",
       "      <td>assistant</td>\n",
       "      <td>{'action_request_id': 'ln6f33f7514b88937262-a2...</td>\n",
       "      <td>ln16ab963-d68-e336e47-30688-7c9db279ba664e</td>\n",
       "      <td>lnbb30ee7b270cd-1b7-bf951-0d-14101315660f5</td>\n",
       "      <td>lnfe7143be66ee817-16449196-a-c42d4-fad473b</td>\n",
       "      <td>{'last_updated': {'content': 1729376584.934265...</td>\n",
       "    </tr>\n",
       "    <tr>\n",
       "      <th>6</th>\n",
       "      <td>2024-10-19T18:23:04.934294</td>\n",
       "      <td>ActionRequest</td>\n",
       "      <td>assistant</td>\n",
       "      <td>{'action_request': {'function': 'mock_search',...</td>\n",
       "      <td>ln6ba01c5d1d3-30-3d8188509-6da-9bbb2714cf0</td>\n",
       "      <td>lnfe7143be66ee817-16449196-a-c42d4-fad473b</td>\n",
       "      <td>lnbb30ee7b270cd-1b7-bf951-0d-14101315660f5</td>\n",
       "      <td>{'last_updated': {'sender': 1729376584.934366,...</td>\n",
       "    </tr>\n",
       "    <tr>\n",
       "      <th>7</th>\n",
       "      <td>2024-10-19T18:23:04.934326</td>\n",
       "      <td>ActionResponse</td>\n",
       "      <td>assistant</td>\n",
       "      <td>{'action_request_id': 'ln6ba01c5d1d3-30-3d8188...</td>\n",
       "      <td>lnff00c4ebdb9e7c75b-3-7ab23-ecb-154fff59f8</td>\n",
       "      <td>lnbb30ee7b270cd-1b7-bf951-0d-14101315660f5</td>\n",
       "      <td>lnfe7143be66ee817-16449196-a-c42d4-fad473b</td>\n",
       "      <td>{'last_updated': {'content': 1729376584.934395...</td>\n",
       "    </tr>\n",
       "    <tr>\n",
       "      <th>8</th>\n",
       "      <td>2024-10-19T18:23:04.934423</td>\n",
       "      <td>ActionRequest</td>\n",
       "      <td>assistant</td>\n",
       "      <td>{'action_request': {'function': 'mock_search',...</td>\n",
       "      <td>lnaab57a4-df18baf-f3-adfe7c26ba19f-996b708</td>\n",
       "      <td>lnfe7143be66ee817-16449196-a-c42d4-fad473b</td>\n",
       "      <td>lnbb30ee7b270cd-1b7-bf951-0d-14101315660f5</td>\n",
       "      <td>{'last_updated': {'sender': 1729376584.934493,...</td>\n",
       "    </tr>\n",
       "    <tr>\n",
       "      <th>9</th>\n",
       "      <td>2024-10-19T18:23:04.934453</td>\n",
       "      <td>ActionResponse</td>\n",
       "      <td>assistant</td>\n",
       "      <td>{'action_request_id': 'lnaab57a4-df18baf-f3-ad...</td>\n",
       "      <td>ln5157c62-9af605d66ae7f2-2-e7a1-94e290c8d0</td>\n",
       "      <td>lnbb30ee7b270cd-1b7-bf951-0d-14101315660f5</td>\n",
       "      <td>lnfe7143be66ee817-16449196-a-c42d4-fad473b</td>\n",
       "      <td>{'last_updated': {'content': 1729376584.934521...</td>\n",
       "    </tr>\n",
       "    <tr>\n",
       "      <th>10</th>\n",
       "      <td>2024-10-19T18:23:04.934549</td>\n",
       "      <td>ActionRequest</td>\n",
       "      <td>assistant</td>\n",
       "      <td>{'action_request': {'function': 'mock_search',...</td>\n",
       "      <td>ln0a391da0-3e-853d74ed8f1ff99-976-3046da7f</td>\n",
       "      <td>lnfe7143be66ee817-16449196-a-c42d4-fad473b</td>\n",
       "      <td>lnbb30ee7b270cd-1b7-bf951-0d-14101315660f5</td>\n",
       "      <td>{'last_updated': {'sender': 1729376584.934616,...</td>\n",
       "    </tr>\n",
       "    <tr>\n",
       "      <th>11</th>\n",
       "      <td>2024-10-19T18:23:04.934579</td>\n",
       "      <td>ActionResponse</td>\n",
       "      <td>assistant</td>\n",
       "      <td>{'action_request_id': 'ln0a391da0-3e-853d74ed8...</td>\n",
       "      <td>lneeb6dd7c7e-d6ab78-f90aec63222-74-daab5de</td>\n",
       "      <td>lnbb30ee7b270cd-1b7-bf951-0d-14101315660f5</td>\n",
       "      <td>lnfe7143be66ee817-16449196-a-c42d4-fad473b</td>\n",
       "      <td>{'last_updated': {'content': 1729376584.934644...</td>\n",
       "    </tr>\n",
       "  </tbody>\n",
       "</table>\n",
       "</div>"
      ],
      "text/plain": [
       "                     timestamp         lion_class       role  \\\n",
       "0   2024-10-19T18:23:03.582229        Instruction       user   \n",
       "1   2024-10-19T18:23:04.932711  AssistantResponse  assistant   \n",
       "2   2024-10-19T18:23:04.933964      ActionRequest  assistant   \n",
       "3   2024-10-19T18:23:04.934015     ActionResponse  assistant   \n",
       "4   2024-10-19T18:23:04.934134      ActionRequest  assistant   \n",
       "5   2024-10-19T18:23:04.934172     ActionResponse  assistant   \n",
       "6   2024-10-19T18:23:04.934294      ActionRequest  assistant   \n",
       "7   2024-10-19T18:23:04.934326     ActionResponse  assistant   \n",
       "8   2024-10-19T18:23:04.934423      ActionRequest  assistant   \n",
       "9   2024-10-19T18:23:04.934453     ActionResponse  assistant   \n",
       "10  2024-10-19T18:23:04.934549      ActionRequest  assistant   \n",
       "11  2024-10-19T18:23:04.934579     ActionResponse  assistant   \n",
       "\n",
       "                                              content  \\\n",
       "0   {'instruction': 'provide 5 function calling qu...   \n",
       "1   {'assistant_response': 'Here are five function...   \n",
       "2   {'action_request': {'function': 'mock_search',...   \n",
       "3   {'action_request_id': 'ln0c09f0b79ba-35-ed0663...   \n",
       "4   {'action_request': {'function': 'mock_search',...   \n",
       "5   {'action_request_id': 'ln6f33f7514b88937262-a2...   \n",
       "6   {'action_request': {'function': 'mock_search',...   \n",
       "7   {'action_request_id': 'ln6ba01c5d1d3-30-3d8188...   \n",
       "8   {'action_request': {'function': 'mock_search',...   \n",
       "9   {'action_request_id': 'lnaab57a4-df18baf-f3-ad...   \n",
       "10  {'action_request': {'function': 'mock_search',...   \n",
       "11  {'action_request_id': 'ln0a391da0-3e-853d74ed8...   \n",
       "\n",
       "                                         ln_id  \\\n",
       "0   ln2595d3d6-519b-ed92d9-b5a35de6-7ae795f054   \n",
       "1   ln35f2aa58b9-889-7dfddf-4ca5b3365-0898fdab   \n",
       "2   ln0c09f0b79ba-35-ed0663e-a647a1d81-751e102   \n",
       "3   lnc94e29803-839c22f5d3-db7cf-e9b-415df8a6b   \n",
       "4   ln6f33f7514b88937262-a2-3f27-2f-a04311eb6a   \n",
       "5   ln16ab963-d68-e336e47-30688-7c9db279ba664e   \n",
       "6   ln6ba01c5d1d3-30-3d8188509-6da-9bbb2714cf0   \n",
       "7   lnff00c4ebdb9e7c75b-3-7ab23-ecb-154fff59f8   \n",
       "8   lnaab57a4-df18baf-f3-adfe7c26ba19f-996b708   \n",
       "9   ln5157c62-9af605d66ae7f2-2-e7a1-94e290c8d0   \n",
       "10  ln0a391da0-3e-853d74ed8f1ff99-976-3046da7f   \n",
       "11  lneeb6dd7c7e-d6ab78-f90aec63222-74-daab5de   \n",
       "\n",
       "                                        sender  \\\n",
       "0                                         user   \n",
       "1   lnfe7143be66ee817-16449196-a-c42d4-fad473b   \n",
       "2   lnfe7143be66ee817-16449196-a-c42d4-fad473b   \n",
       "3   lnbb30ee7b270cd-1b7-bf951-0d-14101315660f5   \n",
       "4   lnfe7143be66ee817-16449196-a-c42d4-fad473b   \n",
       "5   lnbb30ee7b270cd-1b7-bf951-0d-14101315660f5   \n",
       "6   lnfe7143be66ee817-16449196-a-c42d4-fad473b   \n",
       "7   lnbb30ee7b270cd-1b7-bf951-0d-14101315660f5   \n",
       "8   lnfe7143be66ee817-16449196-a-c42d4-fad473b   \n",
       "9   lnbb30ee7b270cd-1b7-bf951-0d-14101315660f5   \n",
       "10  lnfe7143be66ee817-16449196-a-c42d4-fad473b   \n",
       "11  lnbb30ee7b270cd-1b7-bf951-0d-14101315660f5   \n",
       "\n",
       "                                     recipient  \\\n",
       "0   lnfe7143be66ee817-16449196-a-c42d4-fad473b   \n",
       "1                                         user   \n",
       "2   lnbb30ee7b270cd-1b7-bf951-0d-14101315660f5   \n",
       "3   lnfe7143be66ee817-16449196-a-c42d4-fad473b   \n",
       "4   lnbb30ee7b270cd-1b7-bf951-0d-14101315660f5   \n",
       "5   lnfe7143be66ee817-16449196-a-c42d4-fad473b   \n",
       "6   lnbb30ee7b270cd-1b7-bf951-0d-14101315660f5   \n",
       "7   lnfe7143be66ee817-16449196-a-c42d4-fad473b   \n",
       "8   lnbb30ee7b270cd-1b7-bf951-0d-14101315660f5   \n",
       "9   lnfe7143be66ee817-16449196-a-c42d4-fad473b   \n",
       "10  lnbb30ee7b270cd-1b7-bf951-0d-14101315660f5   \n",
       "11  lnfe7143be66ee817-16449196-a-c42d4-fad473b   \n",
       "\n",
       "                                             metadata  \n",
       "0   {'last_updated': {'sender': 1729376584.932844,...  \n",
       "1   {'model_response': {'id': 'chatcmpl-AKC8dtY389...  \n",
       "2   {'last_updated': {'sender': 1729376584.934068,...  \n",
       "3   {'last_updated': {'content': 1729376584.934102...  \n",
       "4   {'last_updated': {'sender': 1729376584.93423, ...  \n",
       "5   {'last_updated': {'content': 1729376584.934265...  \n",
       "6   {'last_updated': {'sender': 1729376584.934366,...  \n",
       "7   {'last_updated': {'content': 1729376584.934395...  \n",
       "8   {'last_updated': {'sender': 1729376584.934493,...  \n",
       "9   {'last_updated': {'content': 1729376584.934521...  \n",
       "10  {'last_updated': {'sender': 1729376584.934616,...  \n",
       "11  {'last_updated': {'content': 1729376584.934644...  "
      ]
     },
     "execution_count": 12,
     "metadata": {},
     "output_type": "execute_result"
    }
   ],
   "source": [
    "branch.to_df()"
   ]
  },
  {
   "cell_type": "code",
   "execution_count": 13,
   "metadata": {},
   "outputs": [
    {
     "data": {
      "text/markdown": [
       "\n",
       "---\n",
       " # Task\n",
       "## **Task instruction**\n",
       "provide 5 function calling query\n",
       "\n",
       "\n",
       "## **Task context**\n",
       "- tool_schemas: {'tools': [{'type': 'function', 'function': {'name': 'mock_search', 'description': 'A mock search function that returns a string', 'parameters': {'type': 'object', 'properties': {'query': {'type': 'string', 'description': None}}, 'required': ['query']}}}]} \n",
       "\n",
       "\n",
       "\n",
       "## **Task guidance**\n",
       "\n",
       "\n",
       "when providing function arguments, please use the following format:\n",
       "\n",
       "{'function': ..., 'arguments': {...}}\n",
       "\n",
       "\n",
       "\n",
       "\n",
       "\n",
       "\n",
       "---\n"
      ],
      "text/plain": [
       "<IPython.core.display.Markdown object>"
      ]
     },
     "execution_count": 13,
     "metadata": {},
     "output_type": "execute_result"
    }
   ],
   "source": [
    "from IPython.display import Markdown, display\n",
    "\n",
    "Markdown(branch.messages[0].chat_msg['content'])"
   ]
  },
  {
   "cell_type": "code",
   "execution_count": 14,
   "metadata": {},
   "outputs": [
    {
     "data": {
      "text/markdown": [
       "\n",
       "---\n",
       " # Task\n",
       "## **Task instruction**\n",
       "provide 5 function calling query\n",
       "\n",
       "\n",
       "## **Task context**\n",
       "- tool_schemas: {'tools': [{'type': 'function', 'function': {'name': 'mock_search', 'description': 'A mock search function that returns a string', 'parameters': {'type': 'object', 'properties': {'query': {'type': 'string', 'description': None}}, 'required': ['query']}}}]} \n",
       "\n",
       "\n",
       "\n",
       "## **Task guidance**\n",
       "\n",
       "\n",
       "when providing function arguments, please use the following format:\n",
       "\n",
       "{'function': ..., 'arguments': {...}}\n",
       "\n",
       "\n",
       "\n",
       "\n",
       "\n",
       "\n",
       "---\n"
      ],
      "text/plain": [
       "<IPython.core.display.Markdown object>"
      ]
     },
     "metadata": {},
     "output_type": "display_data"
    },
    {
     "data": {
      "text/markdown": [
       "Here are five function calling queries using the specified format:\n",
       "\n",
       "1. \n",
       "```json\n",
       "{'function': 'mock_search', 'arguments': {'query': 'latest technology trends'}}\n",
       "```\n",
       "\n",
       "2. \n",
       "```json\n",
       "{'function': 'mock_search', 'arguments': {'query': 'best practices in software development'}}\n",
       "```\n",
       "\n",
       "3. \n",
       "```json\n",
       "{'function': 'mock_search', 'arguments': {'query': 'top programming languages in 2023'}}\n",
       "```\n",
       "\n",
       "4. \n",
       "```json\n",
       "{'function': 'mock_search', 'arguments': {'query': 'impact of AI on job market'}}\n",
       "```\n",
       "\n",
       "5. \n",
       "```json\n",
       "{'function': 'mock_search', 'arguments': {'query': 'future of renewable energy'}}\n",
       "```"
      ],
      "text/plain": [
       "<IPython.core.display.Markdown object>"
      ]
     },
     "metadata": {},
     "output_type": "display_data"
    },
    {
     "data": {
      "text/markdown": [
       "{\n",
       "    \"function\": \"mock_search\",\n",
       "    \"arguments\": {\n",
       "        \"query\": \"latest technology trends\"\n",
       "    }\n",
       "}"
      ],
      "text/plain": [
       "<IPython.core.display.Markdown object>"
      ]
     },
     "metadata": {},
     "output_type": "display_data"
    },
    {
     "data": {
      "text/markdown": [
       "{\n",
       "    \"function\": \"mock_search\",\n",
       "    \"arguments\": {\n",
       "        \"query\": \"latest technology trends\"\n",
       "    },\n",
       "    \"output\": \"Search results for: latest technology trends\"\n",
       "}"
      ],
      "text/plain": [
       "<IPython.core.display.Markdown object>"
      ]
     },
     "metadata": {},
     "output_type": "display_data"
    },
    {
     "data": {
      "text/markdown": [
       "{\n",
       "    \"function\": \"mock_search\",\n",
       "    \"arguments\": {\n",
       "        \"query\": \"best practices in software development\"\n",
       "    }\n",
       "}"
      ],
      "text/plain": [
       "<IPython.core.display.Markdown object>"
      ]
     },
     "metadata": {},
     "output_type": "display_data"
    },
    {
     "data": {
      "text/markdown": [
       "{\n",
       "    \"function\": \"mock_search\",\n",
       "    \"arguments\": {\n",
       "        \"query\": \"best practices in software development\"\n",
       "    },\n",
       "    \"output\": \"Search results for: best practices in software development\"\n",
       "}"
      ],
      "text/plain": [
       "<IPython.core.display.Markdown object>"
      ]
     },
     "metadata": {},
     "output_type": "display_data"
    },
    {
     "data": {
      "text/markdown": [
       "{\n",
       "    \"function\": \"mock_search\",\n",
       "    \"arguments\": {\n",
       "        \"query\": \"top programming languages in 2023\"\n",
       "    }\n",
       "}"
      ],
      "text/plain": [
       "<IPython.core.display.Markdown object>"
      ]
     },
     "metadata": {},
     "output_type": "display_data"
    },
    {
     "data": {
      "text/markdown": [
       "{\n",
       "    \"function\": \"mock_search\",\n",
       "    \"arguments\": {\n",
       "        \"query\": \"top programming languages in 2023\"\n",
       "    },\n",
       "    \"output\": \"Search results for: top programming languages in 2023\"\n",
       "}"
      ],
      "text/plain": [
       "<IPython.core.display.Markdown object>"
      ]
     },
     "metadata": {},
     "output_type": "display_data"
    },
    {
     "data": {
      "text/markdown": [
       "{\n",
       "    \"function\": \"mock_search\",\n",
       "    \"arguments\": {\n",
       "        \"query\": \"impact of AI on job market\"\n",
       "    }\n",
       "}"
      ],
      "text/plain": [
       "<IPython.core.display.Markdown object>"
      ]
     },
     "metadata": {},
     "output_type": "display_data"
    },
    {
     "data": {
      "text/markdown": [
       "{\n",
       "    \"function\": \"mock_search\",\n",
       "    \"arguments\": {\n",
       "        \"query\": \"impact of AI on job market\"\n",
       "    },\n",
       "    \"output\": \"Search results for: impact of AI on job market\"\n",
       "}"
      ],
      "text/plain": [
       "<IPython.core.display.Markdown object>"
      ]
     },
     "metadata": {},
     "output_type": "display_data"
    },
    {
     "data": {
      "text/markdown": [
       "{\n",
       "    \"function\": \"mock_search\",\n",
       "    \"arguments\": {\n",
       "        \"query\": \"future of renewable energy\"\n",
       "    }\n",
       "}"
      ],
      "text/plain": [
       "<IPython.core.display.Markdown object>"
      ]
     },
     "metadata": {},
     "output_type": "display_data"
    },
    {
     "data": {
      "text/markdown": [
       "{\n",
       "    \"function\": \"mock_search\",\n",
       "    \"arguments\": {\n",
       "        \"query\": \"future of renewable energy\"\n",
       "    },\n",
       "    \"output\": \"Search results for: future of renewable energy\"\n",
       "}"
      ],
      "text/plain": [
       "<IPython.core.display.Markdown object>"
      ]
     },
     "metadata": {},
     "output_type": "display_data"
    }
   ],
   "source": [
    "for i in branch.messages:\n",
    "    d = i.chat_msg['content']\n",
    "    d = as_readable_json(d) if isinstance(d, dict) else d\n",
    "    display(Markdown(d))"
   ]
  }
 ],
 "metadata": {
  "kernelspec": {
   "display_name": ".venv",
   "language": "python",
   "name": "python3"
  },
  "language_info": {
   "codemirror_mode": {
    "name": "ipython",
    "version": 3
   },
   "file_extension": ".py",
   "mimetype": "text/x-python",
   "name": "python",
   "nbconvert_exporter": "python",
   "pygments_lexer": "ipython3",
   "version": "3.12.6"
  }
 },
 "nbformat": 4,
 "nbformat_minor": 2
}
