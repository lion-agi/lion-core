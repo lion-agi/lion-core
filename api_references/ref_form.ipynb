{
 "cells": [
  {
   "cell_type": "code",
   "execution_count": 1,
   "metadata": {},
   "outputs": [],
   "source": [
    "from lion_core.form.form import Form"
   ]
  },
  {
   "cell_type": "code",
   "execution_count": 2,
   "metadata": {},
   "outputs": [
    {
     "data": {
      "text/plain": [
       "{'ln_id': 'ln556017-21-fb-076a1b-63f167d7191e',\n",
       " 'timestamp': 1723233432.69543,\n",
       " 'metadata': {'last_updated': {'input1': 1723233432.695603,\n",
       "   'input2': 1723233432.695641,\n",
       "   'output': 1723233432.695661}},\n",
       " 'embedding': [],\n",
       " 'assignment': 'input1, input2 -> output',\n",
       " 'template_name': 'default_form',\n",
       " 'output_fields': ['output'],\n",
       " 'none_as_valid_value': True,\n",
       " 'strict': False,\n",
       " 'input_fields': ['input1', 'input2'],\n",
       " 'request_fields': ['output'],\n",
       " 'task': '',\n",
       " 'task_description': '',\n",
       " 'strict_assignment': False,\n",
       " 'input1': 3,\n",
       " 'lion_class': 'Form'}"
      ]
     },
     "execution_count": 2,
     "metadata": {},
     "output_type": "execute_result"
    }
   ],
   "source": [
    "# correct, input value was taken, output value was ignored at init\n",
    "form1 = Form(\n",
    "    assignment=\"input1, input2 -> output\",\n",
    "    input1=3,\n",
    "    none_as_valid_value=True,\n",
    "    output=4,\n",
    ")\n",
    "d1 = form1.to_dict(valid_only=True)\n",
    "d1"
   ]
  },
  {
   "cell_type": "code",
   "execution_count": 3,
   "metadata": {},
   "outputs": [
    {
     "data": {
      "text/plain": [
       "True"
      ]
     },
     "execution_count": 3,
     "metadata": {},
     "output_type": "execute_result"
    }
   ],
   "source": [
    "form2 = Form.from_dict(d1)\n",
    "form1.ln_id == form2.ln_id"
   ]
  },
  {
   "cell_type": "code",
   "execution_count": 4,
   "metadata": {},
   "outputs": [
    {
     "data": {
      "text/plain": [
       "['input1', 'input2', 'output']"
      ]
     },
     "execution_count": 4,
     "metadata": {},
     "output_type": "execute_result"
    }
   ],
   "source": [
    "form1.work_fields == form2.work_fields\n",
    "form1.work_fields"
   ]
  },
  {
   "cell_type": "code",
   "execution_count": 5,
   "metadata": {},
   "outputs": [
    {
     "data": {
      "text/plain": [
       "['output', 'input2', 'input1']"
      ]
     },
     "execution_count": 5,
     "metadata": {},
     "output_type": "execute_result"
    }
   ],
   "source": [
    "form1.required_fields"
   ]
  },
  {
   "cell_type": "code",
   "execution_count": 6,
   "metadata": {},
   "outputs": [
    {
     "data": {
      "text/plain": [
       "['output']"
      ]
     },
     "execution_count": 6,
     "metadata": {},
     "output_type": "execute_result"
    }
   ],
   "source": [
    "form1.output_fields"
   ]
  },
  {
   "cell_type": "code",
   "execution_count": 7,
   "metadata": {},
   "outputs": [
    {
     "data": {
      "text/plain": [
       "''"
      ]
     },
     "execution_count": 7,
     "metadata": {},
     "output_type": "execute_result"
    }
   ],
   "source": [
    "form1.task"
   ]
  },
  {
   "cell_type": "code",
   "execution_count": 8,
   "metadata": {},
   "outputs": [
    {
     "name": "stdout",
     "output_type": "stream",
     "text": [
      "missing input fields:  ['input2']\n"
     ]
    }
   ],
   "source": [
    "from lionfuncs import as_readable_json\n",
    "\n",
    "if form1.is_workable():\n",
    "    print(as_readable_json(form1.instruction_dict))\n",
    "else:\n",
    "    print(\n",
    "        \"missing input fields: \",\n",
    "        form1.check_is_workable(handle_how=\"return_missing\"),\n",
    "    )"
   ]
  },
  {
   "cell_type": "code",
   "execution_count": 9,
   "metadata": {},
   "outputs": [],
   "source": [
    "form1.append_to_input(\"input3\", 5)\n",
    "form1.append_to_output(\"output2\", 6)\n",
    "form1.append_to_request(\"hello\")"
   ]
  },
  {
   "cell_type": "code",
   "execution_count": 10,
   "metadata": {},
   "outputs": [
    {
     "data": {
      "text/plain": [
       "['output', 'hello']"
      ]
     },
     "execution_count": 10,
     "metadata": {},
     "output_type": "execute_result"
    }
   ],
   "source": [
    "form1.request_fields"
   ]
  },
  {
   "cell_type": "code",
   "execution_count": 11,
   "metadata": {},
   "outputs": [
    {
     "data": {
      "text/plain": [
       "{'ln_id': FieldInfo(annotation=str, required=False, default_factory=id, alias_priority=2, validation_alias=AliasChoices(choices=['id', 'id_', 'ID', 'ID_']), title='Lion ID', description='Unique identifier for the element', frozen=True),\n",
       " 'timestamp': FieldInfo(annotation=float, required=False, default_factory=<lambda>, alias='created', alias_priority=2, title='Creation Timestamp', frozen=True),\n",
       " 'metadata': FieldInfo(annotation=Note, required=False, default_factory=Note, description='Additional metadata for the component'),\n",
       " 'content': FieldInfo(annotation=Any, required=False, default=None, description='The main content of the Component'),\n",
       " 'embedding': FieldInfo(annotation=list[float], required=False, default_factory=list),\n",
       " 'extra_fields': FieldInfo(annotation=dict[str, Any], required=False, default_factory=dict),\n",
       " 'assignment': FieldInfo(annotation=Union[str, NoneType], required=False, default=None, description='The objective of the task.', examples=['input1, input2 -> output']),\n",
       " 'template_name': FieldInfo(annotation=str, required=False, default='default_form', description='Name of the form template'),\n",
       " 'output_fields': FieldInfo(annotation=list[str], required=False, default_factory=list, description='Fields that are outputted and presented by the form. These can include all, part, or none of the request fields.'),\n",
       " 'none_as_valid_value': FieldInfo(annotation=bool, required=False, default=False, description='Indicate whether to treat None as a valid value.'),\n",
       " 'strict': FieldInfo(annotation=bool, required=False, default=False, description='If True, form fields and assignment are immutable.', frozen=True),\n",
       " 'guidance': FieldInfo(annotation=Union[str, dict[str, Any], NoneType], required=False, default=None, description='High-level task guidance, optimizable by AI.'),\n",
       " 'input_fields': FieldInfo(annotation=list[str], required=False, default_factory=list, description='Fields required to obtain the requested fields.'),\n",
       " 'request_fields': FieldInfo(annotation=list[str], required=False, default_factory=list, description='Fields to be filled by an intelligent process.'),\n",
       " 'task': FieldInfo(annotation=Any, required=False, default_factory=str, description='Work to be done, including custom instructions.'),\n",
       " 'task_description': FieldInfo(annotation=Union[str, NoneType], required=False, default_factory=str, description='Detailed description of the task'),\n",
       " 'init_input_kwargs': FieldInfo(annotation=dict[str, Any], required=False, default_factory=dict, exclude=True),\n",
       " 'has_processed': FieldInfo(annotation=bool, required=False, default=False, description='Indicates if the task has been processed.', exclude=True),\n",
       " 'input1': FieldInfo(annotation=Any, required=True),\n",
       " 'input2': FieldInfo(annotation=Any, required=True),\n",
       " 'output': FieldInfo(annotation=Any, required=True),\n",
       " 'input3': FieldInfo(annotation=Any, required=True),\n",
       " 'output2': FieldInfo(annotation=Any, required=True),\n",
       " 'hello': FieldInfo(annotation=Any, required=True)}"
      ]
     },
     "execution_count": 11,
     "metadata": {},
     "output_type": "execute_result"
    }
   ],
   "source": [
    "# we can see that the additional fields were added into form fields\n",
    "form1.all_fields"
   ]
  },
  {
   "cell_type": "code",
   "execution_count": 12,
   "metadata": {},
   "outputs": [],
   "source": [
    "# if already in request, this doesn't do anything\n",
    "form1.append_to_request(\"hello\")"
   ]
  },
  {
   "cell_type": "code",
   "execution_count": 13,
   "metadata": {},
   "outputs": [],
   "source": [
    "form3 = Form.from_form(form1)"
   ]
  },
  {
   "cell_type": "code",
   "execution_count": 14,
   "metadata": {},
   "outputs": [
    {
     "data": {
      "text/plain": [
       "False"
      ]
     },
     "execution_count": 14,
     "metadata": {},
     "output_type": "execute_result"
    }
   ],
   "source": [
    "# when we use from_form, we create a new form object, so the ln_id is different\n",
    "form3.ln_id == form1.ln_id"
   ]
  },
  {
   "cell_type": "code",
   "execution_count": 15,
   "metadata": {},
   "outputs": [
    {
     "name": "stdout",
     "output_type": "stream",
     "text": [
      "['input1', 'input2', 'input3']\n",
      "['output', 'output2']\n",
      "['output', 'hello']\n",
      "-------------------\n",
      "['input3', 'input1', 'input2']\n",
      "[]\n",
      "['output', 'hello']\n"
     ]
    }
   ],
   "source": [
    "for i in [\"input_fields\", \"output_fields\", \"request_fields\"]:\n",
    "    print(getattr(form1, i))\n",
    "\n",
    "print(\"-------------------\")\n",
    "for i in [\"input_fields\", \"output_fields\", \"request_fields\"]:\n",
    "    print(getattr(form3, i))"
   ]
  },
  {
   "cell_type": "code",
   "execution_count": 16,
   "metadata": {},
   "outputs": [
    {
     "data": {
      "text/plain": [
       "['input3', 'input1', 'input2']"
      ]
     },
     "execution_count": 16,
     "metadata": {},
     "output_type": "execute_result"
    }
   ],
   "source": [
    "form3.input_fields"
   ]
  },
  {
   "cell_type": "code",
   "execution_count": 17,
   "metadata": {},
   "outputs": [
    {
     "data": {
      "text/plain": [
       "['output', 'output2']"
      ]
     },
     "execution_count": 17,
     "metadata": {},
     "output_type": "execute_result"
    }
   ],
   "source": [
    "form1.output_fields"
   ]
  },
  {
   "cell_type": "code",
   "execution_count": 18,
   "metadata": {},
   "outputs": [
    {
     "data": {
      "text/plain": [
       "[]"
      ]
     },
     "execution_count": 18,
     "metadata": {},
     "output_type": "execute_result"
    }
   ],
   "source": [
    "form3.output_fields"
   ]
  },
  {
   "cell_type": "code",
   "execution_count": 19,
   "metadata": {},
   "outputs": [],
   "source": [
    "form4 = Form.from_form(\n",
    "    form1,\n",
    "    input1=4,\n",
    "    output=5,\n",
    ")"
   ]
  },
  {
   "cell_type": "code",
   "execution_count": 20,
   "metadata": {},
   "outputs": [
    {
     "data": {
      "text/plain": [
       "{'ln_id': 'ln858c18-7-638db5c5-c6dffa-07ec0c4',\n",
       " 'timestamp': 1723233432.778451,\n",
       " 'metadata': {'last_updated': {'input3': 1723233432.778638,\n",
       "   'input1': 1723233432.778641,\n",
       "   'input2': 1723233432.77862,\n",
       "   'output': 1723233432.778625,\n",
       "   'hello': 1723233432.77863}},\n",
       " 'content': None,\n",
       " 'embedding': [],\n",
       " 'assignment': 'input3, input1, input2 -> output, hello',\n",
       " 'template_name': 'default_form',\n",
       " 'output_fields': [],\n",
       " 'none_as_valid_value': False,\n",
       " 'strict': False,\n",
       " 'guidance': None,\n",
       " 'input_fields': ['input3', 'input1', 'input2'],\n",
       " 'request_fields': ['output', 'hello'],\n",
       " 'task': '',\n",
       " 'task_description': None,\n",
       " 'strict_assignment': False,\n",
       " 'input3': 5,\n",
       " 'input1': 4,\n",
       " 'input2': LN_UNDEFINED,\n",
       " 'output': LN_UNDEFINED,\n",
       " 'hello': LN_UNDEFINED,\n",
       " 'lion_class': 'Form'}"
      ]
     },
     "execution_count": 20,
     "metadata": {},
     "output_type": "execute_result"
    }
   ],
   "source": [
    "form4.to_dict()"
   ]
  },
  {
   "cell_type": "code",
   "execution_count": 21,
   "metadata": {},
   "outputs": [],
   "source": [
    "form = Form(assignment=form1.assignment)"
   ]
  },
  {
   "cell_type": "code",
   "execution_count": 22,
   "metadata": {},
   "outputs": [
    {
     "data": {
      "text/plain": [
       "{'ln_id': 'ln5596a7f4e-f3-608ed9e-8-a789360c9',\n",
       " 'timestamp': 1723233432.784968,\n",
       " 'metadata': {'last_updated': {'input3': 1723233432.787711,\n",
       "   'input1': 1723233432.787721,\n",
       "   'input2': 1723233432.785078,\n",
       "   'output': 1723233432.785096,\n",
       "   'hello': 1723233432.785113}},\n",
       " 'content': None,\n",
       " 'embedding': [],\n",
       " 'assignment': 'input3, input1, input2 -> output, hello',\n",
       " 'template_name': 'default_form',\n",
       " 'output_fields': ['output', 'hello'],\n",
       " 'none_as_valid_value': False,\n",
       " 'strict': False,\n",
       " 'guidance': None,\n",
       " 'input_fields': ['input3', 'input1', 'input2'],\n",
       " 'request_fields': ['output', 'hello'],\n",
       " 'task': '',\n",
       " 'task_description': '',\n",
       " 'strict_assignment': False,\n",
       " 'input3': 5,\n",
       " 'input1': 3,\n",
       " 'input2': LN_UNDEFINED,\n",
       " 'output': LN_UNDEFINED,\n",
       " 'hello': LN_UNDEFINED,\n",
       " 'lion_class': 'Form'}"
      ]
     },
     "execution_count": 22,
     "metadata": {},
     "output_type": "execute_result"
    }
   ],
   "source": [
    "form.fill_input_fields(form1)\n",
    "form.to_dict()"
   ]
  },
  {
   "cell_type": "code",
   "execution_count": 23,
   "metadata": {},
   "outputs": [
    {
     "data": {
      "text/plain": [
       "{'ln_id': 'ln5596a7f4e-f3-608ed9e-8-a789360c9',\n",
       " 'timestamp': 1723233432.784968,\n",
       " 'metadata': {'last_updated': {'input3': 1723233432.787711,\n",
       "   'input1': 1723233432.787721,\n",
       "   'input2': 1723233432.791148,\n",
       "   'output': 1723233432.785096,\n",
       "   'hello': 1723233432.785113}},\n",
       " 'content': None,\n",
       " 'embedding': [],\n",
       " 'assignment': 'input3, input1, input2 -> output, hello',\n",
       " 'template_name': 'default_form',\n",
       " 'output_fields': ['output', 'hello'],\n",
       " 'none_as_valid_value': False,\n",
       " 'strict': False,\n",
       " 'guidance': None,\n",
       " 'input_fields': ['input3', 'input1', 'input2'],\n",
       " 'request_fields': ['output', 'hello'],\n",
       " 'task': '',\n",
       " 'task_description': '',\n",
       " 'strict_assignment': False,\n",
       " 'input3': 5,\n",
       " 'input1': 3,\n",
       " 'input2': 6,\n",
       " 'output': LN_UNDEFINED,\n",
       " 'hello': LN_UNDEFINED,\n",
       " 'lion_class': 'Form'}"
      ]
     },
     "execution_count": 23,
     "metadata": {},
     "output_type": "execute_result"
    }
   ],
   "source": [
    "form.fill_input_fields(\n",
    "    input=5,\n",
    "    input2=6,\n",
    ")\n",
    "form.to_dict()"
   ]
  },
  {
   "cell_type": "code",
   "execution_count": 24,
   "metadata": {},
   "outputs": [
    {
     "data": {
      "text/plain": [
       "{'ln_id': 'ln5596a7f4e-f3-608ed9e-8-a789360c9',\n",
       " 'timestamp': 1723233432.784968,\n",
       " 'metadata': {'last_updated': {'input3': 1723233432.787711,\n",
       "   'input1': 1723233432.787721,\n",
       "   'input2': 1723233432.791148,\n",
       "   'output': 1723233432.794473,\n",
       "   'hello': 1723233432.794483}},\n",
       " 'content': None,\n",
       " 'embedding': [],\n",
       " 'assignment': 'input3, input1, input2 -> output, hello',\n",
       " 'template_name': 'default_form',\n",
       " 'output_fields': ['output', 'hello'],\n",
       " 'none_as_valid_value': False,\n",
       " 'strict': False,\n",
       " 'guidance': None,\n",
       " 'input_fields': ['input3', 'input1', 'input2'],\n",
       " 'request_fields': ['output', 'hello'],\n",
       " 'task': '',\n",
       " 'task_description': '',\n",
       " 'strict_assignment': False,\n",
       " 'input3': 5,\n",
       " 'input1': 3,\n",
       " 'input2': 6,\n",
       " 'output': 52,\n",
       " 'hello': 6,\n",
       " 'lion_class': 'Form'}"
      ]
     },
     "execution_count": 24,
     "metadata": {},
     "output_type": "execute_result"
    }
   ],
   "source": [
    "form.fill_request_fields(\n",
    "    output=52,\n",
    "    hello=6,\n",
    ")\n",
    "form.to_dict()"
   ]
  },
  {
   "cell_type": "code",
   "execution_count": 25,
   "metadata": {},
   "outputs": [],
   "source": [
    "form.output_fields = [\n",
    "    \"input3\",\n",
    "    \"hello\",\n",
    "    \"output\",\n",
    "]"
   ]
  },
  {
   "cell_type": "code",
   "execution_count": 26,
   "metadata": {},
   "outputs": [
    {
     "data": {
      "text/plain": [
       "{'input3': 5, 'hello': 6, 'output': 52}"
      ]
     },
     "execution_count": 26,
     "metadata": {},
     "output_type": "execute_result"
    }
   ],
   "source": [
    "form.get_results()"
   ]
  },
  {
   "cell_type": "code",
   "execution_count": 27,
   "metadata": {},
   "outputs": [
    {
     "data": {
      "text/plain": [
       "True"
      ]
     },
     "execution_count": 27,
     "metadata": {},
     "output_type": "execute_result"
    }
   ],
   "source": [
    "form.is_completed()"
   ]
  },
  {
   "cell_type": "code",
   "execution_count": 28,
   "metadata": {},
   "outputs": [
    {
     "data": {
      "text/plain": [
       "True"
      ]
     },
     "execution_count": 28,
     "metadata": {},
     "output_type": "execute_result"
    }
   ],
   "source": [
    "form.is_workable()"
   ]
  },
  {
   "cell_type": "code",
   "execution_count": 29,
   "metadata": {},
   "outputs": [],
   "source": [
    "form4 = Form.from_form(\n",
    "    form,\n",
    "    none_as_valid_value=False,\n",
    "    strict=True,\n",
    ")"
   ]
  },
  {
   "cell_type": "code",
   "execution_count": 30,
   "metadata": {},
   "outputs": [
    {
     "data": {
      "text/plain": [
       "True"
      ]
     },
     "execution_count": 30,
     "metadata": {},
     "output_type": "execute_result"
    }
   ],
   "source": [
    "form.is_completed()"
   ]
  },
  {
   "cell_type": "code",
   "execution_count": 31,
   "metadata": {},
   "outputs": [
    {
     "data": {
      "text/plain": [
       "{'ln_id': 'lna44fe0e4-7b-290-8778-25748a8f5e3',\n",
       " 'timestamp': 1723233432.809694,\n",
       " 'metadata': {'last_updated': {'input3': 1723233432.80989,\n",
       "   'input1': 1723233432.809894,\n",
       "   'input2': 1723233432.809896,\n",
       "   'output': 1723233432.809876,\n",
       "   'hello': 1723233432.809881}},\n",
       " 'content': None,\n",
       " 'embedding': [],\n",
       " 'assignment': 'input3, input1, input2 -> output, hello',\n",
       " 'template_name': 'default_form',\n",
       " 'output_fields': [],\n",
       " 'none_as_valid_value': False,\n",
       " 'strict': True,\n",
       " 'guidance': None,\n",
       " 'input_fields': ['input3', 'input1', 'input2'],\n",
       " 'request_fields': ['output', 'hello'],\n",
       " 'task': '',\n",
       " 'task_description': None,\n",
       " 'strict_assignment': False,\n",
       " 'input3': 5,\n",
       " 'input1': 3,\n",
       " 'input2': 6,\n",
       " 'output': LN_UNDEFINED,\n",
       " 'hello': LN_UNDEFINED,\n",
       " 'lion_class': 'Form'}"
      ]
     },
     "execution_count": 31,
     "metadata": {},
     "output_type": "execute_result"
    }
   ],
   "source": [
    "form4.to_dict()"
   ]
  },
  {
   "cell_type": "code",
   "execution_count": 32,
   "metadata": {},
   "outputs": [
    {
     "data": {
      "text/plain": [
       "False"
      ]
     },
     "execution_count": 32,
     "metadata": {},
     "output_type": "execute_result"
    }
   ],
   "source": [
    "form4.is_completed()"
   ]
  },
  {
   "cell_type": "code",
   "execution_count": 33,
   "metadata": {},
   "outputs": [],
   "source": [
    "form4.check_is_workable()"
   ]
  },
  {
   "cell_type": "code",
   "execution_count": 34,
   "metadata": {},
   "outputs": [
    {
     "data": {
      "text/plain": [
       "False"
      ]
     },
     "execution_count": 34,
     "metadata": {},
     "output_type": "execute_result"
    }
   ],
   "source": [
    "form4.has_processed"
   ]
  }
 ],
 "metadata": {
  "kernelspec": {
   "display_name": "lion-core-dev",
   "language": "python",
   "name": "python3"
  },
  "language_info": {
   "codemirror_mode": {
    "name": "ipython",
    "version": 3
   },
   "file_extension": ".py",
   "mimetype": "text/x-python",
   "name": "python",
   "nbconvert_exporter": "python",
   "pygments_lexer": "ipython3",
   "version": "3.12.4"
  }
 },
 "nbformat": 4,
 "nbformat_minor": 2
}
