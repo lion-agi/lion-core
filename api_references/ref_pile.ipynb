{
 "cells": [
  {
   "cell_type": "markdown",
   "metadata": {},
   "source": [
    "### Lion-Core Reference: Pile\n",
    "\n",
    "pile object is used throughout lionagi system"
   ]
  },
  {
   "cell_type": "code",
   "execution_count": 1,
   "metadata": {},
   "outputs": [],
   "source": [
    "import sys\n",
    "from pathlib import Path\n",
    "\n",
    "here = Path.cwd().parent.parent\n",
    "sys.path.append(str(here))"
   ]
  },
  {
   "cell_type": "code",
   "execution_count": 2,
   "metadata": {},
   "outputs": [],
   "source": [
    "from lion_core.generic.pile import pile\n",
    "from lion_core.generic.component import Component"
   ]
  },
  {
   "cell_type": "code",
   "execution_count": 3,
   "metadata": {},
   "outputs": [],
   "source": [
    "nodes = [Component(content=i) for i in range(12)]\n",
    "a = nodes[0]\n",
    "b = nodes[1]\n",
    "c = nodes[2]\n",
    "\n",
    "p1 = pile(nodes[:4])\n",
    "p2 = pile(nodes[4:8])\n",
    "p3 = pile(nodes[8:])\n",
    "\n",
    "p4 = pile([p1, p2, p3])\n",
    "p5 = pile(nodes[8:])"
   ]
  },
  {
   "cell_type": "markdown",
   "metadata": {},
   "source": [
    "### Operator"
   ]
  },
  {
   "cell_type": "markdown",
   "metadata": {},
   "source": [
    "OR/XOR/AND (right hand is another pile, we consider their values)"
   ]
  },
  {
   "cell_type": "code",
   "execution_count": 4,
   "metadata": {},
   "outputs": [
    {
     "name": "stdout",
     "output_type": "stream",
     "text": [
      "p1:  [0, 1, 2, 3]\n",
      "p2:  [4, 5, 6, 7]\n",
      "p5:  [8, 9, 10, 11]\n",
      "\n",
      "valid OR, p1|p2:  [0, 1, 2, 3, 4, 5, 6, 7]\n",
      "valid XOR, p1^p5:  [0, 1, 2, 3, 8, 9, 10, 11]\n",
      "valid AND, p1&p2:  []\n",
      "\n",
      "p1:  [0, 1, 2, 3]\n",
      "p2:  [4, 5, 6, 7]\n",
      "p5:  [8, 9, 10, 11]\n",
      "\n",
      "--- inplace ---\n",
      "p1:  [0, 1, 2, 3]\n",
      "p2:  [4, 5, 6, 7]\n",
      "p5:  [8, 9, 10, 11]\n",
      "\n",
      "p1 inplace OR:  [0, 1, 2, 3, 4, 5, 6, 7]\n",
      "p2:  [4, 5, 6, 7]\n",
      "\n",
      "p1 inplace XOR:  [0, 1, 2, 3, 4, 5, 6, 7, 8, 9, 10, 11]\n",
      "p5:  [8, 9, 10, 11]\n",
      "\n",
      "p1 inplace and:  [4, 5, 6, 7]\n",
      "p2:  [4, 5, 6, 7]\n"
     ]
    }
   ],
   "source": [
    "print(\"p1: \", [i.content for i in p1])\n",
    "print(\"p2: \", [i.content for i in p2])\n",
    "print(\"p5: \", [i.content for i in p5])\n",
    "\n",
    "print()\n",
    "# addition/subtraction treats right hand side as elements, not their values\n",
    "print(f\"valid OR, p1|p2: \", [i.content for i in p1 | p2])\n",
    "print(f\"valid XOR, p1^p5: \", [i.content for i in p1 ^ p5])\n",
    "print(f\"valid AND, p1&p2: \", [i.content for i in p1 & p2])\n",
    "print()\n",
    "\n",
    "print(\"p1: \", [i.content for i in p1])\n",
    "print(\"p2: \", [i.content for i in p2])\n",
    "print(\"p5: \", [i.content for i in p5])\n",
    "\n",
    "print()\n",
    "print(\"--- inplace ---\")\n",
    "\n",
    "print(\"p1: \", [i.content for i in p1])\n",
    "print(\"p2: \", [i.content for i in p2])\n",
    "print(\"p5: \", [i.content for i in p5])\n",
    "\n",
    "print()\n",
    "# addition/subtraction treats right hand side as elements, not their values\n",
    "\n",
    "p1 |= p2\n",
    "print(\"p1 inplace OR: \", [i.content for i in p1])\n",
    "print(\"p2: \", [i.content for i in p2])\n",
    "\n",
    "print()\n",
    "p1 ^= p5\n",
    "print(\"p1 inplace XOR: \", [i.content for i in p1])\n",
    "print(\"p5: \", [i.content for i in p5])\n",
    "\n",
    "print()\n",
    "p1 &= p2\n",
    "print(\"p1 inplace and: \", [i.content for i in p1])\n",
    "print(\"p2: \", [i.content for i in p2])"
   ]
  }
 ],
 "metadata": {
  "kernelspec": {
   "display_name": ".venv",
   "language": "python",
   "name": "python3"
  },
  "language_info": {
   "codemirror_mode": {
    "name": "ipython",
    "version": 3
   },
   "file_extension": ".py",
   "mimetype": "text/x-python",
   "name": "python",
   "nbconvert_exporter": "python",
   "pygments_lexer": "ipython3",
   "version": "3.12.1"
  }
 },
 "nbformat": 4,
 "nbformat_minor": 2
}
