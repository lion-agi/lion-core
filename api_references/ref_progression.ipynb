{
 "cells": [
  {
   "cell_type": "markdown",
   "metadata": {},
   "source": [
    "### Lion-Core Reference: Progression"
   ]
  },
  {
   "cell_type": "code",
   "execution_count": 1,
   "metadata": {},
   "outputs": [],
   "source": [
    "from lion_core.generic.progression import prog\n",
    "from lion_core.generic.component import Component"
   ]
  },
  {
   "cell_type": "code",
   "execution_count": 2,
   "metadata": {},
   "outputs": [],
   "source": [
    "nodes = (Component() for _ in range(5))"
   ]
  },
  {
   "cell_type": "code",
   "execution_count": 3,
   "metadata": {},
   "outputs": [],
   "source": [
    "p = prog(nodes)"
   ]
  },
  {
   "cell_type": "code",
   "execution_count": 4,
   "metadata": {},
   "outputs": [
    {
     "data": {
      "text/plain": [
       "['ln3974a3-17f90cc2a-792002-7-ca7b9c',\n",
       " 'ln5e7632e3-60adab-d0-7944-1d638078',\n",
       " 'ln053285de8-460-9-b818-07853834151',\n",
       " 'ln06b859-a2-53-728-124f6434adb2062',\n",
       " 'lneb6f8e8f542f5-4e1e-5061-3b-0a39c']"
      ]
     },
     "execution_count": 4,
     "metadata": {},
     "output_type": "execute_result"
    }
   ],
   "source": [
    "p.order"
   ]
  },
  {
   "cell_type": "code",
   "execution_count": 5,
   "metadata": {},
   "outputs": [],
   "source": [
    "p3 = prog([Component(), Component()])\n",
    "\n",
    "p.extend(p3)"
   ]
  },
  {
   "cell_type": "code",
   "execution_count": 6,
   "metadata": {},
   "outputs": [
    {
     "data": {
      "text/plain": [
       "Progression(['ln3974a3-17f90cc2a-792002-7-ca7b9c', 'ln5e7632e3-60adab-d0-7944-1d638078', 'ln053285de8-460-9-b818-07853834151', 'ln06b859-a2-53-728-124f6434adb2062', 'lneb6f8e8f542f5-4e1e-5061-3b-0a39c', 'ln3546eacb-473ce0df6-c-5105-d6ee7f', 'lnd493ad9a7-ecbc-77d-02d-4661aea79'])"
      ]
     },
     "execution_count": 6,
     "metadata": {},
     "output_type": "execute_result"
    }
   ],
   "source": [
    "p"
   ]
  },
  {
   "cell_type": "code",
   "execution_count": 7,
   "metadata": {},
   "outputs": [
    {
     "data": {
      "text/plain": [
       "7"
      ]
     },
     "execution_count": 7,
     "metadata": {},
     "output_type": "execute_result"
    }
   ],
   "source": [
    "len(p)"
   ]
  },
  {
   "cell_type": "code",
   "execution_count": 8,
   "metadata": {},
   "outputs": [],
   "source": [
    "cc = Component()"
   ]
  },
  {
   "cell_type": "code",
   "execution_count": 9,
   "metadata": {},
   "outputs": [
    {
     "data": {
      "text/plain": [
       "True"
      ]
     },
     "execution_count": 9,
     "metadata": {},
     "output_type": "execute_result"
    }
   ],
   "source": [
    "p += cc\n",
    "cc in p"
   ]
  },
  {
   "cell_type": "code",
   "execution_count": 10,
   "metadata": {},
   "outputs": [
    {
     "data": {
      "text/plain": [
       "Progression(['ln3974a3-17f90cc2a-792002-7-ca7b9c', 'ln5e7632e3-60adab-d0-7944-1d638078', 'ln053285de8-460-9-b818-07853834151', 'ln06b859-a2-53-728-124f6434adb2062', 'lneb6f8e8f542f5-4e1e-5061-3b-0a39c', 'ln3546eacb-473ce0df6-c-5105-d6ee7f', 'lnd493ad9a7-ecbc-77d-02d-4661aea79', 'ln69200a-a-3-63f218c66d-2853b40563'])"
      ]
     },
     "execution_count": 10,
     "metadata": {},
     "output_type": "execute_result"
    }
   ],
   "source": [
    "p"
   ]
  },
  {
   "cell_type": "code",
   "execution_count": 11,
   "metadata": {},
   "outputs": [
    {
     "data": {
      "text/plain": [
       "'ln053285de8-460-9-b818-07853834151'"
      ]
     },
     "execution_count": 11,
     "metadata": {},
     "output_type": "execute_result"
    }
   ],
   "source": [
    "p[2]"
   ]
  },
  {
   "cell_type": "code",
   "execution_count": 12,
   "metadata": {},
   "outputs": [],
   "source": [
    "gg = Component()"
   ]
  },
  {
   "cell_type": "code",
   "execution_count": 13,
   "metadata": {},
   "outputs": [],
   "source": [
    "p[0] = gg"
   ]
  },
  {
   "cell_type": "code",
   "execution_count": 14,
   "metadata": {},
   "outputs": [
    {
     "data": {
      "text/plain": [
       "Progression(['ln54c4a30059e68-fc290-aa-b-8ecbf97', 'ln5e7632e3-60adab-d0-7944-1d638078', 'ln053285de8-460-9-b818-07853834151', 'ln06b859-a2-53-728-124f6434adb2062', 'lneb6f8e8f542f5-4e1e-5061-3b-0a39c', 'ln3546eacb-473ce0df6-c-5105-d6ee7f', 'lnd493ad9a7-ecbc-77d-02d-4661aea79', 'ln69200a-a-3-63f218c66d-2853b40563'])"
      ]
     },
     "execution_count": 14,
     "metadata": {},
     "output_type": "execute_result"
    }
   ],
   "source": [
    "p"
   ]
  },
  {
   "cell_type": "code",
   "execution_count": 15,
   "metadata": {},
   "outputs": [
    {
     "data": {
      "text/plain": [
       "[1, 2, 23]"
      ]
     },
     "execution_count": 15,
     "metadata": {},
     "output_type": "execute_result"
    }
   ],
   "source": [
    "[1, 2, 23][0:8]"
   ]
  },
  {
   "cell_type": "code",
   "execution_count": 16,
   "metadata": {},
   "outputs": [
    {
     "data": {
      "text/plain": [
       "Progression(['ln54c4a30059e68-fc290-aa-b-8ecbf97', 'ln5e7632e3-60adab-d0-7944-1d638078', 'ln053285de8-460-9-b818-07853834151'])"
      ]
     },
     "execution_count": 16,
     "metadata": {},
     "output_type": "execute_result"
    }
   ],
   "source": [
    "p[0:3]"
   ]
  },
  {
   "cell_type": "code",
   "execution_count": 17,
   "metadata": {},
   "outputs": [
    {
     "data": {
      "text/plain": [
       "8"
      ]
     },
     "execution_count": 17,
     "metadata": {},
     "output_type": "execute_result"
    }
   ],
   "source": [
    "len(p)"
   ]
  },
  {
   "cell_type": "code",
   "execution_count": 18,
   "metadata": {},
   "outputs": [],
   "source": [
    "p -= cc"
   ]
  },
  {
   "cell_type": "code",
   "execution_count": 19,
   "metadata": {},
   "outputs": [
    {
     "data": {
      "text/plain": [
       "7"
      ]
     },
     "execution_count": 19,
     "metadata": {},
     "output_type": "execute_result"
    }
   ],
   "source": [
    "len(p)"
   ]
  },
  {
   "cell_type": "code",
   "execution_count": 20,
   "metadata": {},
   "outputs": [
    {
     "data": {
      "text/plain": [
       "False"
      ]
     },
     "execution_count": 20,
     "metadata": {},
     "output_type": "execute_result"
    }
   ],
   "source": [
    "cc in p"
   ]
  },
  {
   "cell_type": "code",
   "execution_count": 21,
   "metadata": {},
   "outputs": [
    {
     "data": {
      "text/plain": [
       "False"
      ]
     },
     "execution_count": 21,
     "metadata": {},
     "output_type": "execute_result"
    }
   ],
   "source": [
    "tt = Component()\n",
    "tt in p"
   ]
  },
  {
   "cell_type": "code",
   "execution_count": 22,
   "metadata": {},
   "outputs": [
    {
     "name": "stdout",
     "output_type": "stream",
     "text": [
      "Error:  Component(ln_id=ln87b947..., timestamp=2024-08-05 21:17:06.323859, content='None', metadata_keys=[], extra_fields=[], extra_fields_keys=[])\n"
     ]
    }
   ],
   "source": [
    "try:\n",
    "    p -= tt\n",
    "except Exception as e:\n",
    "    print(\"Error: \", e)"
   ]
  },
  {
   "cell_type": "code",
   "execution_count": 23,
   "metadata": {},
   "outputs": [],
   "source": [
    "p += cc"
   ]
  },
  {
   "cell_type": "code",
   "execution_count": 24,
   "metadata": {},
   "outputs": [],
   "source": [
    "p.exclude(cc)"
   ]
  },
  {
   "cell_type": "code",
   "execution_count": 25,
   "metadata": {},
   "outputs": [
    {
     "data": {
      "text/plain": [
       "False"
      ]
     },
     "execution_count": 25,
     "metadata": {},
     "output_type": "execute_result"
    }
   ],
   "source": [
    "cc in p"
   ]
  },
  {
   "cell_type": "code",
   "execution_count": 26,
   "metadata": {},
   "outputs": [
    {
     "data": {
      "text/plain": [
       "7"
      ]
     },
     "execution_count": 26,
     "metadata": {},
     "output_type": "execute_result"
    }
   ],
   "source": [
    "len(p)"
   ]
  },
  {
   "cell_type": "code",
   "execution_count": 27,
   "metadata": {},
   "outputs": [
    {
     "name": "stdout",
     "output_type": "stream",
     "text": [
      "ln54c4a30059e68-fc290-aa-b-8ecbf97\n",
      "ln5e7632e3-60adab-d0-7944-1d638078\n",
      "ln053285de8-460-9-b818-07853834151\n",
      "ln06b859-a2-53-728-124f6434adb2062\n",
      "lneb6f8e8f542f5-4e1e-5061-3b-0a39c\n",
      "ln3546eacb-473ce0df6-c-5105-d6ee7f\n",
      "lnd493ad9a7-ecbc-77d-02d-4661aea79\n"
     ]
    }
   ],
   "source": [
    "for i in p:\n",
    "    print(i)"
   ]
  },
  {
   "cell_type": "code",
   "execution_count": 28,
   "metadata": {},
   "outputs": [
    {
     "data": {
      "text/plain": [
       "7"
      ]
     },
     "execution_count": 28,
     "metadata": {},
     "output_type": "execute_result"
    }
   ],
   "source": [
    "len(p)"
   ]
  },
  {
   "cell_type": "code",
   "execution_count": 29,
   "metadata": {},
   "outputs": [
    {
     "name": "stdout",
     "output_type": "stream",
     "text": [
      "ln54c4a30059e68-fc290-aa-b-8ecbf97\n",
      "ln5e7632e3-60adab-d0-7944-1d638078\n",
      "ln053285de8-460-9-b818-07853834151\n",
      "ln06b859-a2-53-728-124f6434adb2062\n",
      "lneb6f8e8f542f5-4e1e-5061-3b-0a39c\n",
      "ln3546eacb-473ce0df6-c-5105-d6ee7f\n",
      "lnd493ad9a7-ecbc-77d-02d-4661aea79\n",
      "index 7 item not found\n"
     ]
    }
   ],
   "source": [
    "try:\n",
    "    for i in range(12):\n",
    "        print(p[i])\n",
    "except Exception as e:\n",
    "    print(e)"
   ]
  },
  {
   "cell_type": "code",
   "execution_count": 30,
   "metadata": {},
   "outputs": [
    {
     "data": {
      "text/plain": [
       "Progression(['ln54c4a30059e68-fc290-aa-b-8ecbf97', 'ln5e7632e3-60adab-d0-7944-1d638078', 'ln053285de8-460-9-b818-07853834151', 'ln06b859-a2-53-728-124f6434adb2062', 'lneb6f8e8f542f5-4e1e-5061-3b-0a39c', 'ln3546eacb-473ce0df6-c-5105-d6ee7f', 'lnd493ad9a7-ecbc-77d-02d-4661aea79'])"
      ]
     },
     "execution_count": 30,
     "metadata": {},
     "output_type": "execute_result"
    }
   ],
   "source": [
    "p"
   ]
  },
  {
   "cell_type": "code",
   "execution_count": 31,
   "metadata": {},
   "outputs": [
    {
     "data": {
      "text/plain": [
       "7"
      ]
     },
     "execution_count": 31,
     "metadata": {},
     "output_type": "execute_result"
    }
   ],
   "source": [
    "len(p)"
   ]
  },
  {
   "cell_type": "code",
   "execution_count": 32,
   "metadata": {},
   "outputs": [],
   "source": [
    "# [1,2,3,4,5].index(10)"
   ]
  },
  {
   "cell_type": "code",
   "execution_count": 33,
   "metadata": {},
   "outputs": [],
   "source": [
    "# [5:10]"
   ]
  },
  {
   "cell_type": "code",
   "execution_count": 34,
   "metadata": {},
   "outputs": [],
   "source": [
    "try:\n",
    "    p[5:15]\n",
    "except Exception as e:\n",
    "    print(\"Error: \", e)"
   ]
  },
  {
   "cell_type": "code",
   "execution_count": 35,
   "metadata": {},
   "outputs": [
    {
     "name": "stdout",
     "output_type": "stream",
     "text": [
      "ln54c4a30059e68-fc290-aa-b-8ecbf97\n",
      "ln5e7632e3-60adab-d0-7944-1d638078\n",
      "ln053285de8-460-9-b818-07853834151\n",
      "ln06b859-a2-53-728-124f6434adb2062\n",
      "lneb6f8e8f542f5-4e1e-5061-3b-0a39c\n",
      "ln3546eacb-473ce0df6-c-5105-d6ee7f\n",
      "lnd493ad9a7-ecbc-77d-02d-4661aea79\n",
      "Item not found.\n"
     ]
    }
   ],
   "source": [
    "try:\n",
    "    for i in range(12):\n",
    "        print(p.popleft())\n",
    "except Exception as e:\n",
    "    print(e)"
   ]
  },
  {
   "cell_type": "code",
   "execution_count": 36,
   "metadata": {},
   "outputs": [],
   "source": [
    "for i in range(5):\n",
    "    p += Component()"
   ]
  },
  {
   "cell_type": "code",
   "execution_count": 37,
   "metadata": {},
   "outputs": [
    {
     "data": {
      "text/plain": [
       "5"
      ]
     },
     "execution_count": 37,
     "metadata": {},
     "output_type": "execute_result"
    }
   ],
   "source": [
    "len(p)"
   ]
  },
  {
   "cell_type": "code",
   "execution_count": 38,
   "metadata": {},
   "outputs": [
    {
     "data": {
      "text/plain": [
       "0"
      ]
     },
     "execution_count": 38,
     "metadata": {},
     "output_type": "execute_result"
    }
   ],
   "source": [
    "for i in list(p.order):\n",
    "    p.remove(i)\n",
    "\n",
    "len(p)"
   ]
  },
  {
   "cell_type": "code",
   "execution_count": 39,
   "metadata": {},
   "outputs": [
    {
     "data": {
      "text/plain": [
       "6"
      ]
     },
     "execution_count": 39,
     "metadata": {},
     "output_type": "execute_result"
    }
   ],
   "source": [
    "p2 = prog()\n",
    "\n",
    "for i in range(5):\n",
    "    p += Component()\n",
    "    p2 += Component()\n",
    "\n",
    "len(p + p2)"
   ]
  },
  {
   "cell_type": "code",
   "execution_count": 40,
   "metadata": {},
   "outputs": [
    {
     "data": {
      "text/plain": [
       "False"
      ]
     },
     "execution_count": 40,
     "metadata": {},
     "output_type": "execute_result"
    }
   ],
   "source": [
    "p + p2 == p2 + p"
   ]
  },
  {
   "cell_type": "code",
   "execution_count": 41,
   "metadata": {},
   "outputs": [
    {
     "data": {
      "text/plain": [
       "True"
      ]
     },
     "execution_count": 41,
     "metadata": {},
     "output_type": "execute_result"
    }
   ],
   "source": [
    "p + p == p + p"
   ]
  },
  {
   "cell_type": "markdown",
   "metadata": {},
   "source": [
    "[]\n",
    "\n",
    "\n",
    "\n",
    "\n",
    "\n"
   ]
  },
  {
   "cell_type": "code",
   "execution_count": 42,
   "metadata": {},
   "outputs": [
    {
     "data": {
      "text/plain": [
       "6"
      ]
     },
     "execution_count": 42,
     "metadata": {},
     "output_type": "execute_result"
    }
   ],
   "source": [
    "# a non progression add a progression is a new progression\n",
    "node = Component()\n",
    "\n",
    "len(node + p)"
   ]
  },
  {
   "cell_type": "code",
   "execution_count": 43,
   "metadata": {},
   "outputs": [
    {
     "data": {
      "text/plain": [
       "5"
      ]
     },
     "execution_count": 43,
     "metadata": {},
     "output_type": "execute_result"
    }
   ],
   "source": [
    "len(p)"
   ]
  },
  {
   "cell_type": "code",
   "execution_count": 44,
   "metadata": {},
   "outputs": [
    {
     "data": {
      "text/plain": [
       "['ln8513f8bb31-aa-96-bb61-2ea7c64b5c',\n",
       " 'ln3b5684-95eb8-f66d-8fb-8e04425356',\n",
       " 'ln3652dd0-9a4-dd6e-410d59-3ff2eece',\n",
       " 'ln5135413-9-9c612955dd48-5-8a36450',\n",
       " 'ln97ab954-f9835-b-d5-ad730e71a0353']"
      ]
     },
     "execution_count": 44,
     "metadata": {},
     "output_type": "execute_result"
    }
   ],
   "source": [
    "list(p)"
   ]
  },
  {
   "cell_type": "code",
   "execution_count": 45,
   "metadata": {},
   "outputs": [
    {
     "data": {
      "text/plain": [
       "{'ln3652dd0-9a4-dd6e-410d59-3ff2eece',\n",
       " 'ln3b5684-95eb8-f66d-8fb-8e04425356',\n",
       " 'ln5135413-9-9c612955dd48-5-8a36450',\n",
       " 'ln8513f8bb31-aa-96-bb61-2ea7c64b5c',\n",
       " 'ln97ab954-f9835-b-d5-ad730e71a0353'}"
      ]
     },
     "execution_count": 45,
     "metadata": {},
     "output_type": "execute_result"
    }
   ],
   "source": [
    "set(p)"
   ]
  },
  {
   "cell_type": "code",
   "execution_count": 46,
   "metadata": {},
   "outputs": [
    {
     "data": {
      "text/plain": [
       "('ln8513f8bb31-aa-96-bb61-2ea7c64b5c',\n",
       " 'ln3b5684-95eb8-f66d-8fb-8e04425356',\n",
       " 'ln3652dd0-9a4-dd6e-410d59-3ff2eece',\n",
       " 'ln5135413-9-9c612955dd48-5-8a36450',\n",
       " 'ln97ab954-f9835-b-d5-ad730e71a0353')"
      ]
     },
     "execution_count": 46,
     "metadata": {},
     "output_type": "execute_result"
    }
   ],
   "source": [
    "tuple(p)"
   ]
  }
 ],
 "metadata": {
  "kernelspec": {
   "display_name": ".venv",
   "language": "python",
   "name": "python3"
  },
  "language_info": {
   "codemirror_mode": {
    "name": "ipython",
    "version": 3
   },
   "file_extension": ".py",
   "mimetype": "text/x-python",
   "name": "python",
   "nbconvert_exporter": "python",
   "pygments_lexer": "ipython3",
   "version": "3.12.4"
  }
 },
 "nbformat": 4,
 "nbformat_minor": 2
}
