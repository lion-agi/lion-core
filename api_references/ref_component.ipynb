{
 "cells": [
  {
   "cell_type": "markdown",
   "metadata": {},
   "source": [
    "### Lion-Core Reference: Component"
   ]
  },
  {
   "cell_type": "code",
   "execution_count": 1,
   "metadata": {},
   "outputs": [],
   "source": [
    "from lion_core.generic.component import Component"
   ]
  },
  {
   "cell_type": "code",
   "execution_count": 2,
   "metadata": {},
   "outputs": [],
   "source": [
    "# init\n",
    "a = Component()"
   ]
  },
  {
   "cell_type": "code",
   "execution_count": 3,
   "metadata": {},
   "outputs": [
    {
     "data": {
      "text/plain": [
       "{'ln_id': 'ln644ab923919b0b6-61-c1d-445-13d5f',\n",
       " 'timestamp': 1723228640.534048,\n",
       " 'metadata': {},\n",
       " 'content': None,\n",
       " 'embedding': [],\n",
       " 'lion_class': 'Component'}"
      ]
     },
     "execution_count": 3,
     "metadata": {},
     "output_type": "execute_result"
    }
   ],
   "source": [
    "# serialize\n",
    "d = a.to_dict()\n",
    "d"
   ]
  },
  {
   "cell_type": "code",
   "execution_count": 4,
   "metadata": {},
   "outputs": [
    {
     "data": {
      "text/plain": [
       "{'ln_id': 'ln644ab923919b0b6-61-c1d-445-13d5f',\n",
       " 'timestamp': 1723228640.534048,\n",
       " 'metadata': {},\n",
       " 'content': None,\n",
       " 'embedding': [],\n",
       " 'lion_class': 'Component'}"
      ]
     },
     "execution_count": 4,
     "metadata": {},
     "output_type": "execute_result"
    }
   ],
   "source": [
    "# deserialize\n",
    "c = Component.from_dict(d)\n",
    "c.to_dict()"
   ]
  },
  {
   "cell_type": "code",
   "execution_count": 5,
   "metadata": {},
   "outputs": [
    {
     "name": "stdout",
     "output_type": "stream",
     "text": [
      "test_value1\n"
     ]
    }
   ],
   "source": [
    "# add field\n",
    "a.add_field(\n",
    "    field_name=\"test_field\",\n",
    "    annotation=str,\n",
    "    value=\"test_value1\",\n",
    ")\n",
    "print(a.test_field)"
   ]
  },
  {
   "cell_type": "code",
   "execution_count": 6,
   "metadata": {},
   "outputs": [
    {
     "name": "stdout",
     "output_type": "stream",
     "text": [
      "test_value2\n",
      "test_value3\n"
     ]
    }
   ],
   "source": [
    "# update field, (will add a new one if not exist)\n",
    "a.update_field(\n",
    "    field_name=\"test_field2\",\n",
    "    annotation=str,\n",
    "    value=\"test_value2\",\n",
    ")\n",
    "print(a.test_field2)\n",
    "\n",
    "a.update_field(\n",
    "    field_name=\"test_field2\",\n",
    "    annotation=str,\n",
    "    value=\"test_value3\",\n",
    "    default=\"test_value4\",\n",
    ")\n",
    "print(a.test_field2)"
   ]
  },
  {
   "cell_type": "code",
   "execution_count": 7,
   "metadata": {},
   "outputs": [
    {
     "data": {
      "text/plain": [
       "{'test_field': FieldInfo(annotation=str, required=True),\n",
       " 'test_field2': FieldInfo(annotation=str, required=False, default='test_value4')}"
      ]
     },
     "execution_count": 7,
     "metadata": {},
     "output_type": "execute_result"
    }
   ],
   "source": [
    "# the added fields are in extra_fields, saved as pydantic FieldInfo objects\n",
    "a.extra_fields"
   ]
  },
  {
   "cell_type": "code",
   "execution_count": 8,
   "metadata": {},
   "outputs": [
    {
     "data": {
      "text/plain": [
       "{'ln_id': FieldInfo(annotation=str, required=False, default_factory=id, alias_priority=2, validation_alias=AliasChoices(choices=['id', 'id_', 'ID', 'ID_']), title='Lion ID', description='Unique identifier for the element', frozen=True),\n",
       " 'timestamp': FieldInfo(annotation=float, required=False, default_factory=<lambda>, alias='created', alias_priority=2, title='Creation Timestamp', frozen=True),\n",
       " 'metadata': FieldInfo(annotation=Note, required=False, default_factory=Note, description='Additional metadata for the component'),\n",
       " 'content': FieldInfo(annotation=Any, required=False, default=None, description='The main content of the Component'),\n",
       " 'embedding': FieldInfo(annotation=list[float], required=False, default_factory=list),\n",
       " 'extra_fields': FieldInfo(annotation=dict[str, Any], required=False, default_factory=dict),\n",
       " 'test_field': FieldInfo(annotation=str, required=True),\n",
       " 'test_field2': FieldInfo(annotation=str, required=False, default='test_value4')}"
      ]
     },
     "execution_count": 8,
     "metadata": {},
     "output_type": "execute_result"
    }
   ],
   "source": [
    "# if you wish to see all the fields including the extra fields\n",
    "a.all_fields"
   ]
  },
  {
   "cell_type": "markdown",
   "metadata": {},
   "source": [
    "`metadata` is of data structure `Note`, please refer there for metadata manipulation"
   ]
  },
  {
   "cell_type": "code",
   "execution_count": 9,
   "metadata": {},
   "outputs": [
    {
     "name": "stdout",
     "output_type": "stream",
     "text": [
      "Cannot directly assign to metadata.\n"
     ]
    }
   ],
   "source": [
    "# metadata is of a special attribute, it cannot be set directly\n",
    "try:\n",
    "    a.metadata = []\n",
    "except AttributeError as e:\n",
    "    print(e)"
   ]
  },
  {
   "cell_type": "code",
   "execution_count": 10,
   "metadata": {},
   "outputs": [
    {
     "name": "stdout",
     "output_type": "stream",
     "text": [
      "Cannot directly assign to extra_fields\n"
     ]
    }
   ],
   "source": [
    "# you have to use update_field/add_field to include extra fields\n",
    "try:\n",
    "    a.extra_fields = []\n",
    "except AttributeError as e:\n",
    "    print(e)"
   ]
  },
  {
   "cell_type": "code",
   "execution_count": 11,
   "metadata": {},
   "outputs": [
    {
     "name": "stdout",
     "output_type": "stream",
     "text": [
      "Component(ln_id=ln644ab9..., timestamp=2024-08-09 18:37:20.534048, content='None', metadata_keys=['last_updated'], extra_fields=['test_field', 'test_field2'], extra_fields_keys=['test_field', 'test_field2'])\n"
     ]
    }
   ],
   "source": [
    "print(a)"
   ]
  },
  {
   "cell_type": "code",
   "execution_count": 12,
   "metadata": {},
   "outputs": [
    {
     "data": {
      "text/plain": [
       "Component(ln_id='ln644ab923919b0b6-61-c1d-445-13d5f', timestamp=2024-08-09 18:37:20.534048, content=None, metadata={'last_updated': {'test_field': 1723228640.545711, 'test_field2': 1723228640.562981}}, extra_fields={'test_field': 'test_value1', 'test_field2': 'test_value3'})"
      ]
     },
     "execution_count": 12,
     "metadata": {},
     "output_type": "execute_result"
    }
   ],
   "source": [
    "a"
   ]
  },
  {
   "cell_type": "markdown",
   "metadata": {},
   "source": [
    "component supports plug-in converters, allowing flexible type conversion\n",
    "\n",
    "you can register a custom converter using `component.register_converter()`"
   ]
  },
  {
   "cell_type": "code",
   "execution_count": 13,
   "metadata": {},
   "outputs": [
    {
     "data": {
      "text/plain": [
       "'{\"ln_id\": \"ln644ab923919b0b6-61-c1d-445-13d5f\", \"timestamp\": 1723228640.534048, \"metadata\": {\"last_updated\": {\"test_field\": 1723228640.545711, \"test_field2\": 1723228640.562981}}, \"content\": null, \"embedding\": [], \"test_field\": \"test_value1\", \"test_field2\": \"test_value3\", \"lion_class\": \"Component\"}'"
      ]
     },
     "execution_count": 13,
     "metadata": {},
     "output_type": "execute_result"
    }
   ],
   "source": [
    "a.convert_to(\"json\")"
   ]
  },
  {
   "cell_type": "code",
   "execution_count": 14,
   "metadata": {},
   "outputs": [
    {
     "data": {
      "text/plain": [
       "{'ln_id': 'ln644ab923919b0b6-61-c1d-445-13d5f',\n",
       " 'timestamp': 1723228640.534048,\n",
       " 'metadata': {'last_updated': {'test_field': 1723228640.545711,\n",
       "   'test_field2': 1723228640.562981}},\n",
       " 'content': None,\n",
       " 'embedding': [],\n",
       " 'test_field': 'test_value1',\n",
       " 'test_field2': 'test_value3',\n",
       " 'lion_class': 'Component'}"
      ]
     },
     "execution_count": 14,
     "metadata": {},
     "output_type": "execute_result"
    }
   ],
   "source": [
    "d = a.convert_to(\"dict\")\n",
    "d"
   ]
  },
  {
   "cell_type": "code",
   "execution_count": 15,
   "metadata": {},
   "outputs": [
    {
     "data": {
      "text/plain": [
       "{'ln_id': 'ln644ab923919b0b6-61-c1d-445-13d5f',\n",
       " 'timestamp': 1723228640.534048,\n",
       " 'metadata': {'last_updated': {'test_field': 1723228640.607623,\n",
       "   'test_field2': 1723228640.607645}},\n",
       " 'content': None,\n",
       " 'embedding': [],\n",
       " 'test_field': 'test_value1',\n",
       " 'test_field2': 'test_value3',\n",
       " 'lion_class': 'Component'}"
      ]
     },
     "execution_count": 15,
     "metadata": {},
     "output_type": "execute_result"
    }
   ],
   "source": [
    "c = Component.convert_from(d)\n",
    "c.to_dict()"
   ]
  },
  {
   "cell_type": "code",
   "execution_count": 16,
   "metadata": {},
   "outputs": [
    {
     "name": "stdout",
     "output_type": "stream",
     "text": [
      "{'test_field': ['Any']}\n",
      "{'test_field': ['Any'], 'ln_id': ['str']}\n"
     ]
    }
   ],
   "source": [
    "print(c._field_annotation(\"test_field\"))\n",
    "print(c._field_annotation([\"test_field\", \"ln_id\"]))"
   ]
  },
  {
   "cell_type": "code",
   "execution_count": 17,
   "metadata": {},
   "outputs": [
    {
     "data": {
      "text/plain": [
       "{'test_field': ['Any']}"
      ]
     },
     "execution_count": 17,
     "metadata": {},
     "output_type": "execute_result"
    }
   ],
   "source": [
    "c.field_getattr(\"test_field\", \"annotation\")"
   ]
  },
  {
   "cell_type": "code",
   "execution_count": 18,
   "metadata": {},
   "outputs": [
    {
     "data": {
      "text/plain": [
       "{'test_field': ['Any']}"
      ]
     },
     "execution_count": 18,
     "metadata": {},
     "output_type": "execute_result"
    }
   ],
   "source": [
    "c.field_getattr(\"test_field\", \"annotation\")"
   ]
  },
  {
   "cell_type": "code",
   "execution_count": 19,
   "metadata": {},
   "outputs": [
    {
     "name": "stdout",
     "output_type": "stream",
     "text": [
      "field test_field has no attribute description\n"
     ]
    }
   ],
   "source": [
    "try:\n",
    "    c.field_getattr(\"test_field\", \"description\")\n",
    "except AttributeError as e:\n",
    "    print(e)"
   ]
  },
  {
   "cell_type": "code",
   "execution_count": 20,
   "metadata": {},
   "outputs": [],
   "source": [
    "c.field_getattr(\"test_field\", \"description\", None)"
   ]
  },
  {
   "cell_type": "code",
   "execution_count": 21,
   "metadata": {},
   "outputs": [
    {
     "data": {
      "text/plain": [
       "{'test_field': ['Any']}"
      ]
     },
     "execution_count": 21,
     "metadata": {},
     "output_type": "execute_result"
    }
   ],
   "source": [
    "assert c.field_hasattr(\"test_field\", \"annotation\") is True\n",
    "c.field_getattr(\"test_field\", \"annotation\")"
   ]
  },
  {
   "cell_type": "code",
   "execution_count": 22,
   "metadata": {},
   "outputs": [
    {
     "data": {
      "text/plain": [
       "False"
      ]
     },
     "execution_count": 22,
     "metadata": {},
     "output_type": "execute_result"
    }
   ],
   "source": [
    "c.field_hasattr(\"test_field\", \"description\")"
   ]
  },
  {
   "cell_type": "code",
   "execution_count": 23,
   "metadata": {},
   "outputs": [],
   "source": [
    "c.field_setattr(\"test_field\", \"description\", \"test_description\")"
   ]
  },
  {
   "cell_type": "code",
   "execution_count": 24,
   "metadata": {},
   "outputs": [
    {
     "data": {
      "text/plain": [
       "FieldInfo(annotation=Any, required=True, description='test_description')"
      ]
     },
     "execution_count": 24,
     "metadata": {},
     "output_type": "execute_result"
    }
   ],
   "source": [
    "c.all_fields[\"test_field\"]"
   ]
  },
  {
   "cell_type": "code",
   "execution_count": 25,
   "metadata": {},
   "outputs": [
    {
     "data": {
      "text/plain": [
       "True"
      ]
     },
     "execution_count": 25,
     "metadata": {},
     "output_type": "execute_result"
    }
   ],
   "source": [
    "c.field_hasattr(\"test_field\", \"description\")"
   ]
  },
  {
   "cell_type": "code",
   "execution_count": 26,
   "metadata": {},
   "outputs": [
    {
     "data": {
      "text/plain": [
       "'test_description'"
      ]
     },
     "execution_count": 26,
     "metadata": {},
     "output_type": "execute_result"
    }
   ],
   "source": [
    "c.field_getattr(\"test_field\", \"description\")"
   ]
  }
 ],
 "metadata": {
  "kernelspec": {
   "display_name": "lion-core-dev",
   "language": "python",
   "name": "python3"
  },
  "language_info": {
   "codemirror_mode": {
    "name": "ipython",
    "version": 3
   },
   "file_extension": ".py",
   "mimetype": "text/x-python",
   "name": "python",
   "nbconvert_exporter": "python",
   "pygments_lexer": "ipython3",
   "version": "3.12.4"
  }
 },
 "nbformat": 4,
 "nbformat_minor": 2
}
